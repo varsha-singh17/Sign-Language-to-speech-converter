{
 "cells": [
  {
   "cell_type": "code",
   "execution_count": 1,
   "id": "85a02283",
   "metadata": {},
   "outputs": [
    {
     "name": "stdout",
     "output_type": "stream",
     "text": [
      "WARNING:tensorflow:From C:\\Users\\VARSHA\\anaconda3\\Lib\\site-packages\\keras\\src\\losses.py:2976: The name tf.losses.sparse_softmax_cross_entropy is deprecated. Please use tf.compat.v1.losses.sparse_softmax_cross_entropy instead.\n",
      "\n"
     ]
    }
   ],
   "source": [
    "import cv2\n",
    "import numpy as np\n",
    "import os\n",
    "from matplotlib import pyplot as plt\n",
    "import time\n",
    "import mediapipe as mp"
   ]
  },
  {
   "cell_type": "code",
   "execution_count": 2,
   "id": "8dcfc17b",
   "metadata": {},
   "outputs": [],
   "source": [
    "mp_holistic = mp.solutions.holistic # Holistic model\n",
    "mp_drawing = mp.solutions.drawing_utils # Drawing utilities"
   ]
  },
  {
   "cell_type": "code",
   "execution_count": 3,
   "id": "b9bf43e9",
   "metadata": {},
   "outputs": [],
   "source": [
    "def mediapipe_detection(image, model):\n",
    "    image = cv2.cvtColor(image, cv2.COLOR_BGR2RGB) # COLOR CONVERSION BGR 2 RGB\n",
    "    image.flags.writeable = False                  # Image is no longer writeable\n",
    "    results = model.process(image)                 # Make prediction\n",
    "    image.flags.writeable = True                   # Image is now writeable \n",
    "    image = cv2.cvtColor(image, cv2.COLOR_RGB2BGR) # COLOR COVERSION RGB 2 BGR\n",
    "    return image, results"
   ]
  },
  {
   "cell_type": "code",
   "execution_count": 4,
   "id": "0013bb3b",
   "metadata": {},
   "outputs": [],
   "source": [
    "def draw_landmarks(image, results):\n",
    "    mp_drawing.draw_landmarks(image, results.face_landmarks, mp_holistic.FACEMESH_CONTOURS) # Draw face connections\n",
    "    mp_drawing.draw_landmarks(image, results.pose_landmarks, mp_holistic.POSE_CONNECTIONS) # Draw pose connections\n",
    "    mp_drawing.draw_landmarks(image, results.left_hand_landmarks, mp_holistic.HAND_CONNECTIONS) # Draw left hand connections\n",
    "    mp_drawing.draw_landmarks(image, results.right_hand_landmarks, mp_holistic.HAND_CONNECTIONS) # Draw right hand connections"
   ]
  },
  {
   "cell_type": "code",
   "execution_count": 5,
   "id": "a0194ddf",
   "metadata": {},
   "outputs": [],
   "source": [
    "def draw_styled_landmarks(image, results):\n",
    "    # Draw face connections\n",
    "    mp_drawing.draw_landmarks(image, results.face_landmarks, mp_holistic.FACEMESH_CONTOURS, \n",
    "                             mp_drawing.DrawingSpec(color=(80,110,10), thickness=1, circle_radius=1), \n",
    "                             mp_drawing.DrawingSpec(color=(80,256,121), thickness=1, circle_radius=1)\n",
    "                             ) \n",
    "    # Draw pose connections\n",
    "    mp_drawing.draw_landmarks(image, results.pose_landmarks, mp_holistic.POSE_CONNECTIONS,\n",
    "                             mp_drawing.DrawingSpec(color=(80,22,10), thickness=2, circle_radius=4), \n",
    "                             mp_drawing.DrawingSpec(color=(80,44,121), thickness=2, circle_radius=2)\n",
    "                             ) \n",
    "    # Draw left hand connections\n",
    "    mp_drawing.draw_landmarks(image, results.left_hand_landmarks, mp_holistic.HAND_CONNECTIONS, \n",
    "                             mp_drawing.DrawingSpec(color=(121,22,76), thickness=2, circle_radius=4), \n",
    "                             mp_drawing.DrawingSpec(color=(121,44,250), thickness=2, circle_radius=2)\n",
    "                             ) \n",
    "    # Draw right hand connections  \n",
    "    mp_drawing.draw_landmarks(image, results.right_hand_landmarks, mp_holistic.HAND_CONNECTIONS, \n",
    "                             mp_drawing.DrawingSpec(color=(245,117,66), thickness=2, circle_radius=4), \n",
    "                             mp_drawing.DrawingSpec(color=(245,66,230), thickness=2, circle_radius=2)\n",
    "                             ) \n"
   ]
  },
  {
   "cell_type": "code",
   "execution_count": 6,
   "id": "84ae943e",
   "metadata": {},
   "outputs": [
    {
     "name": "stdout",
     "output_type": "stream",
     "text": [
      "<class 'mediapipe.python.solution_base.SolutionOutputs'>\n",
      "<class 'mediapipe.python.solution_base.SolutionOutputs'>\n",
      "<class 'mediapipe.python.solution_base.SolutionOutputs'>\n",
      "<class 'mediapipe.python.solution_base.SolutionOutputs'>\n",
      "<class 'mediapipe.python.solution_base.SolutionOutputs'>\n",
      "<class 'mediapipe.python.solution_base.SolutionOutputs'>\n",
      "<class 'mediapipe.python.solution_base.SolutionOutputs'>\n",
      "<class 'mediapipe.python.solution_base.SolutionOutputs'>\n",
      "<class 'mediapipe.python.solution_base.SolutionOutputs'>\n",
      "<class 'mediapipe.python.solution_base.SolutionOutputs'>\n",
      "<class 'mediapipe.python.solution_base.SolutionOutputs'>\n",
      "<class 'mediapipe.python.solution_base.SolutionOutputs'>\n",
      "<class 'mediapipe.python.solution_base.SolutionOutputs'>\n",
      "<class 'mediapipe.python.solution_base.SolutionOutputs'>\n",
      "<class 'mediapipe.python.solution_base.SolutionOutputs'>\n",
      "<class 'mediapipe.python.solution_base.SolutionOutputs'>\n",
      "<class 'mediapipe.python.solution_base.SolutionOutputs'>\n",
      "<class 'mediapipe.python.solution_base.SolutionOutputs'>\n",
      "<class 'mediapipe.python.solution_base.SolutionOutputs'>\n",
      "<class 'mediapipe.python.solution_base.SolutionOutputs'>\n",
      "<class 'mediapipe.python.solution_base.SolutionOutputs'>\n",
      "<class 'mediapipe.python.solution_base.SolutionOutputs'>\n",
      "<class 'mediapipe.python.solution_base.SolutionOutputs'>\n",
      "<class 'mediapipe.python.solution_base.SolutionOutputs'>\n",
      "<class 'mediapipe.python.solution_base.SolutionOutputs'>\n",
      "<class 'mediapipe.python.solution_base.SolutionOutputs'>\n",
      "<class 'mediapipe.python.solution_base.SolutionOutputs'>\n",
      "<class 'mediapipe.python.solution_base.SolutionOutputs'>\n",
      "<class 'mediapipe.python.solution_base.SolutionOutputs'>\n",
      "<class 'mediapipe.python.solution_base.SolutionOutputs'>\n",
      "<class 'mediapipe.python.solution_base.SolutionOutputs'>\n",
      "<class 'mediapipe.python.solution_base.SolutionOutputs'>\n",
      "<class 'mediapipe.python.solution_base.SolutionOutputs'>\n",
      "<class 'mediapipe.python.solution_base.SolutionOutputs'>\n",
      "<class 'mediapipe.python.solution_base.SolutionOutputs'>\n",
      "<class 'mediapipe.python.solution_base.SolutionOutputs'>\n",
      "<class 'mediapipe.python.solution_base.SolutionOutputs'>\n",
      "<class 'mediapipe.python.solution_base.SolutionOutputs'>\n",
      "<class 'mediapipe.python.solution_base.SolutionOutputs'>\n",
      "<class 'mediapipe.python.solution_base.SolutionOutputs'>\n",
      "<class 'mediapipe.python.solution_base.SolutionOutputs'>\n",
      "<class 'mediapipe.python.solution_base.SolutionOutputs'>\n",
      "<class 'mediapipe.python.solution_base.SolutionOutputs'>\n",
      "<class 'mediapipe.python.solution_base.SolutionOutputs'>\n",
      "<class 'mediapipe.python.solution_base.SolutionOutputs'>\n",
      "<class 'mediapipe.python.solution_base.SolutionOutputs'>\n",
      "<class 'mediapipe.python.solution_base.SolutionOutputs'>\n",
      "<class 'mediapipe.python.solution_base.SolutionOutputs'>\n",
      "<class 'mediapipe.python.solution_base.SolutionOutputs'>\n"
     ]
    }
   ],
   "source": [
    "cap = cv2.VideoCapture(0)\n",
    "# Set mediapipe model \n",
    "with mp_holistic.Holistic(min_detection_confidence=0.5, min_tracking_confidence=0.5) as holistic:\n",
    "    while cap.isOpened():\n",
    "\n",
    "        # Read feed\n",
    "        ret, frame = cap.read()\n",
    "\n",
    "        # Make detections\n",
    "        image, results = mediapipe_detection(frame, holistic)\n",
    "        print(results)\n",
    "        \n",
    "        # Draw landmarks\n",
    "        draw_styled_landmarks(image, results)\n",
    "\n",
    "        # Show to screen\n",
    "        cv2.imshow('OpenCV Feed', image)\n",
    "\n",
    "        # Break gracefully\n",
    "        if cv2.waitKey(10) & 0xFF == ord('q'):\n",
    "            break\n",
    "    cap.release()\n",
    "    cv2.destroyAllWindows()"
   ]
  },
  {
   "cell_type": "code",
   "execution_count": 7,
   "id": "ba1c93c2",
   "metadata": {},
   "outputs": [
    {
     "data": {
      "text/plain": [
       "21"
      ]
     },
     "execution_count": 7,
     "metadata": {},
     "output_type": "execute_result"
    }
   ],
   "source": [
    "len(results.left_hand_landmarks.landmark)"
   ]
  },
  {
   "cell_type": "code",
   "execution_count": 8,
   "id": "bb8d088f",
   "metadata": {},
   "outputs": [
    {
     "data": {
      "text/plain": [
       "mediapipe.python.solution_base.SolutionOutputs"
      ]
     },
     "execution_count": 8,
     "metadata": {},
     "output_type": "execute_result"
    }
   ],
   "source": [
    "results"
   ]
  },
  {
   "cell_type": "code",
   "execution_count": 9,
   "id": "856d1ade",
   "metadata": {},
   "outputs": [],
   "source": [
    "draw_landmarks(frame, results)"
   ]
  },
  {
   "cell_type": "code",
   "execution_count": 10,
   "id": "8165ec86",
   "metadata": {},
   "outputs": [
    {
     "data": {
      "text/plain": [
       "<matplotlib.image.AxesImage at 0x25fd92e8e10>"
      ]
     },
     "execution_count": 10,
     "metadata": {},
     "output_type": "execute_result"
    },
    {
     "data": {
      "image/png": "[encoded data removed]",
      "text/plain": [
       "<Figure size 640x480 with 1 Axes>"
      ]
     },
     "metadata": {},
     "output_type": "display_data"
    }
   ],
   "source": [
    "plt.imshow(cv2.cvtColor(frame, cv2.COLOR_BGR2RGB))"
   ]
  },
  {
   "cell_type": "markdown",
   "id": "bd8ae06c",
   "metadata": {},
   "source": [
    "# Step 2"
   ]
  },
  {
   "cell_type": "code",
   "execution_count": 11,
   "id": "2a875295",
   "metadata": {},
   "outputs": [
    {
     "data": {
      "text/plain": [
       "21"
      ]
     },
     "execution_count": 11,
     "metadata": {},
     "output_type": "execute_result"
    }
   ],
   "source": [
    "len(results.left_hand_landmarks.landmark)"
   ]
  },
  {
   "cell_type": "code",
   "execution_count": 12,
   "id": "38b111f3",
   "metadata": {},
   "outputs": [],
   "source": [
    "pose = []\n",
    "for res in results.pose_landmarks.landmark:\n",
    "    test = np.array([res.x, res.y, res.z, res.visibility])\n",
    "    pose.append(test)"
   ]
  },
  {
   "cell_type": "code",
   "execution_count": 13,
   "id": "6b83a410",
   "metadata": {},
   "outputs": [],
   "source": [
    "pose = np.array([[res.x, res.y, res.z, res.visibility] for res in results.pose_landmarks.landmark]).flatten() if results.pose_landmarks else np.zeros(132)\n",
    "face = np.array([[res.x, res.y, res.z] for res in results.face_landmarks.landmark]).flatten() if results.face_landmarks else np.zeros(1404)\n",
    "lh = np.array([[res.x, res.y, res.z] for res in results.left_hand_landmarks.landmark]).flatten() if results.left_hand_landmarks else np.zeros(21*3)\n",
    "rh = np.array([[res.x, res.y, res.z] for res in results.right_hand_landmarks.landmark]).flatten() if results.right_hand_landmarks else np.zeros(21*3)"
   ]
  },
  {
   "cell_type": "code",
   "execution_count": 14,
   "id": "5c138ec5",
   "metadata": {},
   "outputs": [],
   "source": [
    "face = np.array([[res.x, res.y, res.z] for res in results.face_landmarks.landmark]).flatten() if results.face_landmarks else np.zeros(1404)"
   ]
  },
  {
   "cell_type": "code",
   "execution_count": 15,
   "id": "5c499e6c",
   "metadata": {},
   "outputs": [],
   "source": [
    "def extract_keypoints(results):\n",
    "    pose = np.array([[res.x, res.y, res.z, res.visibility] for res in results.pose_landmarks.landmark]).flatten() if results.pose_landmarks else np.zeros(33*4)\n",
    "    face = np.array([[res.x, res.y, res.z] for res in results.face_landmarks.landmark]).flatten() if results.face_landmarks else np.zeros(468*3)\n",
    "    lh = np.array([[res.x, res.y, res.z] for res in results.left_hand_landmarks.landmark]).flatten() if results.left_hand_landmarks else np.zeros(21*3)\n",
    "    rh = np.array([[res.x, res.y, res.z] for res in results.right_hand_landmarks.landmark]).flatten() if results.right_hand_landmarks else np.zeros(21*3)\n",
    "    return np.concatenate([pose, face, lh, rh])"
   ]
  },
  {
   "cell_type": "code",
   "execution_count": 16,
   "id": "b4f4f39b",
   "metadata": {},
   "outputs": [],
   "source": [
    "result_test = extract_keypoints(results)"
   ]
  },
  {
   "cell_type": "code",
   "execution_count": 17,
   "id": "c2c63977",
   "metadata": {},
   "outputs": [
    {
     "data": {
      "text/plain": [
       "array([ 0.46178117,  0.50510371, -0.77455324, ...,  0.        ,\n",
       "        0.        ,  0.        ])"
      ]
     },
     "execution_count": 17,
     "metadata": {},
     "output_type": "execute_result"
    }
   ],
   "source": [
    "result_test"
   ]
  },
  {
   "cell_type": "code",
   "execution_count": 18,
   "id": "90e9b69b",
   "metadata": {},
   "outputs": [
    {
     "data": {
      "text/plain": [
       "1662"
      ]
     },
     "execution_count": 18,
     "metadata": {},
     "output_type": "execute_result"
    }
   ],
   "source": [
    "468*3+33*4+21*3+21*3"
   ]
  },
  {
   "cell_type": "code",
   "execution_count": 19,
   "id": "c8d527a6",
   "metadata": {},
   "outputs": [],
   "source": [
    "np.save('0', result_test)"
   ]
  },
  {
   "cell_type": "code",
   "execution_count": 20,
   "id": "60f3fd64",
   "metadata": {},
   "outputs": [
    {
     "data": {
      "text/plain": [
       "array([ 0.46178117,  0.50510371, -0.77455324, ...,  0.        ,\n",
       "        0.        ,  0.        ])"
      ]
     },
     "execution_count": 20,
     "metadata": {},
     "output_type": "execute_result"
    }
   ],
   "source": [
    "np.load('0.npy')"
   ]
  },
  {
   "cell_type": "markdown",
   "id": "4fe74ae5",
   "metadata": {},
   "source": [
    "# Step 3"
   ]
  },
  {
   "cell_type": "code",
   "execution_count": 21,
   "id": "b1530294",
   "metadata": {},
   "outputs": [],
   "source": [
    "# Path for exported data, numpy arrays\n",
    "DATA_PATH = os.path.join('MP_Data') \n",
    "\n",
    "# Actions that we try to detect\n",
    "actions = np.array(['hello', 'thanks','I like It','A','B'])\n",
    "\n",
    "# Thirty videos worth of data\n",
    "no_sequences = 30\n",
    "\n",
    "# Videos are going to be 30 frames in length\n",
    "sequence_length = 30\n"
   ]
  },
  {
   "cell_type": "code",
   "execution_count": 22,
   "id": "6ee29612",
   "metadata": {},
   "outputs": [],
   "source": [
    "for action in actions: \n",
    "    for sequence in range(no_sequences):\n",
    "        try: \n",
    "            os.makedirs(os.path.join(DATA_PATH, action, str(sequence)))\n",
    "        except:\n",
    "            pass\n"
   ]
  },
  {
   "cell_type": "markdown",
   "id": "42a955d4",
   "metadata": {},
   "source": [
    "# Step 4"
   ]
  },
  {
   "cell_type": "code",
   "execution_count": 23,
   "id": "6a20a016",
   "metadata": {},
   "outputs": [],
   "source": [
    "cap = cv2.VideoCapture(0)\n",
    "# Set mediapipe model \n",
    "with mp_holistic.Holistic(min_detection_confidence=0.5, min_tracking_confidence=0.5) as holistic:\n",
    "    \n",
    "    # NEW LOOP\n",
    "    # Loop through actions\n",
    "    for action in actions:\n",
    "        # Loop through sequences aka videos\n",
    "        for sequence in range(no_sequences):\n",
    "            # Loop through video length aka sequence length\n",
    "            for frame_num in range(sequence_length):\n",
    "\n",
    "                # Read feed\n",
    "                ret, frame = cap.read()\n",
    "\n",
    "                # Make detections\n",
    "                image, results = mediapipe_detection(frame, holistic)\n",
    "#                 print(results)\n",
    "\n",
    "                # Draw landmarks\n",
    "                draw_styled_landmarks(image, results)\n",
    "                \n",
    "                # NEW Apply wait logic\n",
    "                if frame_num == 0: \n",
    "                    cv2.putText(image, 'STARTING COLLECTION', (120,200), \n",
    "                               cv2.FONT_HERSHEY_SIMPLEX, 1, (0,255, 0), 4, cv2.LINE_AA)\n",
    "                    cv2.putText(image, 'Collecting frames for {} Video Number {}'.format(action, sequence), (15,12), \n",
    "                               cv2.FONT_HERSHEY_SIMPLEX, 0.5, (0, 0, 255), 1, cv2.LINE_AA)\n",
    "                    # Show to screen\n",
    "                    cv2.imshow('OpenCV Feed', image)\n",
    "                    cv2.waitKey(2000)\n",
    "                else: \n",
    "                    cv2.putText(image, 'Collecting frames for {} Video Number {}'.format(action, sequence), (15,12), \n",
    "                               cv2.FONT_HERSHEY_SIMPLEX, 0.5, (0, 0, 255), 1, cv2.LINE_AA)\n",
    "                    # Show to screen\n",
    "                    cv2.imshow('OpenCV Feed', image)\n",
    "                \n",
    "                # NEW Export keypoints\n",
    "                keypoints = extract_keypoints(results)\n",
    "                npy_path = os.path.join(DATA_PATH, action, str(sequence), str(frame_num))\n",
    "                np.save(npy_path, keypoints)\n",
    "\n",
    "                # Break gracefully\n",
    "                if cv2.waitKey(10) & 0xFF == ord('q'):\n",
    "                                        break\n",
    "                    \n",
    "    cap.release()\n",
    "    cv2.destroyAllWindows()\n"
   ]
  },
  {
   "cell_type": "code",
   "execution_count": 24,
   "id": "86a7ed59",
   "metadata": {},
   "outputs": [],
   "source": [
    " cap.release()\n",
    "cv2.destroyAllWindows()"
   ]
  },
  {
   "cell_type": "markdown",
   "id": "2c61faf0",
   "metadata": {},
   "source": [
    "# step 5"
   ]
  },
  {
   "cell_type": "code",
   "execution_count": 25,
   "id": "adf84ced",
   "metadata": {},
   "outputs": [],
   "source": [
    "from sklearn.model_selection import train_test_split\n",
    "from tensorflow.keras.utils import to_categorical"
   ]
  },
  {
   "cell_type": "code",
   "execution_count": 26,
   "id": "811cb9db",
   "metadata": {},
   "outputs": [],
   "source": [
    "label_map = {label:num for num, label in enumerate(actions)}"
   ]
  },
  {
   "cell_type": "code",
   "execution_count": 27,
   "id": "d5bb246e",
   "metadata": {},
   "outputs": [
    {
     "data": {
      "text/plain": [
       "{'hello': 0, 'thanks': 1, 'I like It': 2, 'A': 3, 'B': 4}"
      ]
     },
     "execution_count": 27,
     "metadata": {},
     "output_type": "execute_result"
    }
   ],
   "source": [
    "label_map"
   ]
  },
  {
   "cell_type": "code",
   "execution_count": 28,
   "id": "a159c919",
   "metadata": {},
   "outputs": [],
   "source": [
    "sequences, labels = [], []\n",
    "for action in actions:\n",
    "    for sequence in range(no_sequences):\n",
    "        window = []\n",
    "        for frame_num in range(sequence_length):\n",
    "            res = np.load(os.path.join(DATA_PATH, action, str(sequence), \"{}.npy\".format(frame_num)))\n",
    "            window.append(res)\n",
    "        sequences.append(window)\n",
    "        labels.append(label_map[action])"
   ]
  },
  {
   "cell_type": "code",
   "execution_count": 29,
   "id": "89dcfec2",
   "metadata": {},
   "outputs": [
    {
     "data": {
      "text/plain": [
       "(150, 30, 1662)"
      ]
     },
     "execution_count": 29,
     "metadata": {},
     "output_type": "execute_result"
    }
   ],
   "source": [
    "np.array(sequences).shape"
   ]
  },
  {
   "cell_type": "code",
   "execution_count": 30,
   "id": "57ee08ea",
   "metadata": {},
   "outputs": [
    {
     "data": {
      "text/plain": [
       "(150,)"
      ]
     },
     "execution_count": 30,
     "metadata": {},
     "output_type": "execute_result"
    }
   ],
   "source": [
    "np.array(labels).shape"
   ]
  },
  {
   "cell_type": "code",
   "execution_count": 31,
   "id": "bbb1e38e",
   "metadata": {},
   "outputs": [],
   "source": [
    "X = np.array(sequences)"
   ]
  },
  {
   "cell_type": "code",
   "execution_count": 32,
   "id": "dc5c6ed1",
   "metadata": {},
   "outputs": [
    {
     "data": {
      "text/plain": [
       "(150, 30, 1662)"
      ]
     },
     "execution_count": 32,
     "metadata": {},
     "output_type": "execute_result"
    }
   ],
   "source": [
    "X.shape"
   ]
  },
  {
   "cell_type": "code",
   "execution_count": 33,
   "id": "dffb5386",
   "metadata": {},
   "outputs": [],
   "source": [
    "y = to_categorical(labels).astype(int)"
   ]
  },
  {
   "cell_type": "code",
   "execution_count": 34,
   "id": "6a6bd333",
   "metadata": {},
   "outputs": [],
   "source": [
    "X_train, X_test, y_train, y_test = train_test_split(X, y, test_size=0.05)"
   ]
  },
  {
   "cell_type": "code",
   "execution_count": 35,
   "id": "867d764b",
   "metadata": {},
   "outputs": [
    {
     "data": {
      "text/plain": [
       "(8, 5)"
      ]
     },
     "execution_count": 35,
     "metadata": {},
     "output_type": "execute_result"
    }
   ],
   "source": [
    "y_test.shape"
   ]
  },
  {
   "cell_type": "markdown",
   "id": "39911d5d",
   "metadata": {},
   "source": [
    "# step 6"
   ]
  },
  {
   "cell_type": "code",
   "execution_count": 70,
   "id": "e170a3c1",
   "metadata": {},
   "outputs": [],
   "source": [
    "from tensorflow.keras.models import Sequential\n",
    "from tensorflow.keras.layers import LSTM, Dense,Dropout\n",
    "from tensorflow.keras.callbacks import TensorBoard"
   ]
  },
  {
   "cell_type": "code",
   "execution_count": 71,
   "id": "62423e20",
   "metadata": {},
   "outputs": [],
   "source": [
    "log_dir = os.path.join('Logs')\n",
    "tb_callback = TensorBoard(log_dir=log_dir)"
   ]
  },
  {
   "cell_type": "code",
   "execution_count": 119,
   "id": "f21e34ff",
   "metadata": {},
   "outputs": [],
   "source": [
    "model = Sequential()\n",
    "model.add(LSTM(64, return_sequences=True, activation='relu', input_shape=(30,1662)))\n",
    "model.add(LSTM(128, return_sequences=True, activation='relu'))\n",
    "model.add(LSTM(128, return_sequences=True, activation='relu'))\n",
    "model.add(LSTM(64, return_sequences=False, activation='relu'))\n",
    "model.add(Dense(64, activation='relu'))\n",
    "model.add(Dense(64, activation='relu'))\n",
    "model.add(Dense(32, activation='relu'))\n",
    "model.add(Dense(actions.shape[0], activation='softmax'))\n",
    "\n"
   ]
  },
  {
   "cell_type": "code",
   "execution_count": 107,
   "id": "747318f9",
   "metadata": {},
   "outputs": [],
   "source": [
    "res = [0.2, 0.5, 0.1, 0.1, 0.1]"
   ]
  },
  {
   "cell_type": "code",
   "execution_count": 108,
   "id": "8a6b71bf",
   "metadata": {},
   "outputs": [
    {
     "data": {
      "text/plain": [
       "'thanks'"
      ]
     },
     "execution_count": 108,
     "metadata": {},
     "output_type": "execute_result"
    }
   ],
   "source": [
    "actions[np.argmax(res)]"
   ]
  },
  {
   "cell_type": "code",
   "execution_count": 120,
   "id": "816247d1",
   "metadata": {},
   "outputs": [],
   "source": [
    "model.compile(optimizer='Adam', loss='categorical_crossentropy', metrics=['categorical_accuracy'])"
   ]
  },
  {
   "cell_type": "code",
   "execution_count": null,
   "id": "dbf401c7",
   "metadata": {},
   "outputs": [],
   "source": []
  },
  {
   "cell_type": "code",
   "execution_count": 111,
   "id": "5b10b5a4",
   "metadata": {},
   "outputs": [
    {
     "name": "stdout",
     "output_type": "stream",
     "text": [
      "Epoch 1/400\n",
      "5/5 [==============================] - 2s 79ms/step - loss: 0.3773 - categorical_accuracy: 0.8521\n",
      "Epoch 2/400\n",
      "5/5 [==============================] - 0s 81ms/step - loss: 0.3289 - categorical_accuracy: 0.8451\n",
      "Epoch 3/400\n",
      "5/5 [==============================] - 0s 80ms/step - loss: 0.3256 - categorical_accuracy: 0.8380\n",
      "Epoch 4/400\n",
      "5/5 [==============================] - 0s 83ms/step - loss: 0.2947 - categorical_accuracy: 0.8592\n",
      "Epoch 5/400\n",
      "5/5 [==============================] - 0s 84ms/step - loss: 0.2946 - categorical_accuracy: 0.8662\n",
      "Epoch 6/400\n",
      "5/5 [==============================] - 0s 80ms/step - loss: 0.2903 - categorical_accuracy: 0.8732\n",
      "Epoch 7/400\n",
      "5/5 [==============================] - 0s 80ms/step - loss: 0.2793 - categorical_accuracy: 0.8592\n",
      "Epoch 8/400\n",
      "5/5 [==============================] - 0s 81ms/step - loss: 0.2805 - categorical_accuracy: 0.8662\n",
      "Epoch 9/400\n",
      "5/5 [==============================] - 0s 80ms/step - loss: 0.2800 - categorical_accuracy: 0.8803\n",
      "Epoch 10/400\n",
      "5/5 [==============================] - 0s 83ms/step - loss: 0.2921 - categorical_accuracy: 0.8662\n",
      "Epoch 11/400\n",
      "5/5 [==============================] - 0s 78ms/step - loss: 0.6074 - categorical_accuracy: 0.7394\n",
      "Epoch 12/400\n",
      "5/5 [==============================] - 0s 78ms/step - loss: 0.6263 - categorical_accuracy: 0.7254\n",
      "Epoch 13/400\n",
      "5/5 [==============================] - 0s 82ms/step - loss: 0.5391 - categorical_accuracy: 0.7394\n",
      "Epoch 14/400\n",
      "5/5 [==============================] - 0s 80ms/step - loss: 0.4140 - categorical_accuracy: 0.8169\n",
      "Epoch 15/400\n",
      "5/5 [==============================] - 0s 83ms/step - loss: 0.4119 - categorical_accuracy: 0.8169\n",
      "Epoch 16/400\n",
      "5/5 [==============================] - 0s 82ms/step - loss: 0.3776 - categorical_accuracy: 0.8310\n",
      "Epoch 17/400\n",
      "5/5 [==============================] - 0s 82ms/step - loss: 0.3895 - categorical_accuracy: 0.7676\n",
      "Epoch 18/400\n",
      "5/5 [==============================] - 0s 80ms/step - loss: 0.4079 - categorical_accuracy: 0.7958\n",
      "Epoch 19/400\n",
      "5/5 [==============================] - 0s 82ms/step - loss: 0.3350 - categorical_accuracy: 0.8662\n",
      "Epoch 20/400\n",
      "5/5 [==============================] - 0s 79ms/step - loss: 0.3383 - categorical_accuracy: 0.8380\n",
      "Epoch 21/400\n",
      "5/5 [==============================] - 0s 79ms/step - loss: 0.3398 - categorical_accuracy: 0.8451\n",
      "Epoch 22/400\n",
      "5/5 [==============================] - 0s 80ms/step - loss: 0.3030 - categorical_accuracy: 0.8873\n",
      "Epoch 23/400\n",
      "5/5 [==============================] - 0s 81ms/step - loss: 0.3108 - categorical_accuracy: 0.8521\n",
      "Epoch 24/400\n",
      "5/5 [==============================] - 0s 82ms/step - loss: 0.3081 - categorical_accuracy: 0.8592\n",
      "Epoch 25/400\n",
      "5/5 [==============================] - 0s 79ms/step - loss: 0.3542 - categorical_accuracy: 0.8662\n",
      "Epoch 26/400\n",
      "5/5 [==============================] - 0s 81ms/step - loss: 0.3041 - categorical_accuracy: 0.8662\n",
      "Epoch 27/400\n",
      "5/5 [==============================] - 0s 78ms/step - loss: 0.2871 - categorical_accuracy: 0.8662\n",
      "Epoch 28/400\n",
      "5/5 [==============================] - 0s 81ms/step - loss: 0.2595 - categorical_accuracy: 0.8873\n",
      "Epoch 29/400\n",
      "5/5 [==============================] - 0s 81ms/step - loss: 0.2981 - categorical_accuracy: 0.8521\n",
      "Epoch 30/400\n",
      "5/5 [==============================] - 0s 80ms/step - loss: 0.2813 - categorical_accuracy: 0.8662\n",
      "Epoch 31/400\n",
      "5/5 [==============================] - 0s 80ms/step - loss: 0.2500 - categorical_accuracy: 0.9155\n",
      "Epoch 32/400\n",
      "5/5 [==============================] - 0s 94ms/step - loss: 0.2440 - categorical_accuracy: 0.9155\n",
      "Epoch 33/400\n",
      "5/5 [==============================] - 0s 87ms/step - loss: 0.2537 - categorical_accuracy: 0.8873\n",
      "Epoch 34/400\n",
      "5/5 [==============================] - 0s 83ms/step - loss: 0.2419 - categorical_accuracy: 0.9085\n",
      "Epoch 35/400\n",
      "5/5 [==============================] - 0s 83ms/step - loss: 0.2449 - categorical_accuracy: 0.9014\n",
      "Epoch 36/400\n",
      "5/5 [==============================] - 0s 80ms/step - loss: 0.2980 - categorical_accuracy: 0.8732\n",
      "Epoch 37/400\n",
      "5/5 [==============================] - 0s 76ms/step - loss: 0.4075 - categorical_accuracy: 0.7817\n",
      "Epoch 38/400\n",
      "5/5 [==============================] - 0s 82ms/step - loss: 0.3194 - categorical_accuracy: 0.8592\n",
      "Epoch 39/400\n",
      "5/5 [==============================] - 0s 81ms/step - loss: 0.3272 - categorical_accuracy: 0.8732\n",
      "Epoch 40/400\n",
      "5/5 [==============================] - 0s 83ms/step - loss: 0.2796 - categorical_accuracy: 0.8803\n",
      "Epoch 41/400\n",
      "5/5 [==============================] - 0s 80ms/step - loss: 0.2880 - categorical_accuracy: 0.8873\n",
      "Epoch 42/400\n",
      "5/5 [==============================] - 0s 81ms/step - loss: 0.2576 - categorical_accuracy: 0.9085\n",
      "Epoch 43/400\n",
      "5/5 [==============================] - 0s 79ms/step - loss: 0.2488 - categorical_accuracy: 0.9155\n",
      "Epoch 44/400\n",
      "5/5 [==============================] - 0s 80ms/step - loss: 0.2599 - categorical_accuracy: 0.8944\n",
      "Epoch 45/400\n",
      "5/5 [==============================] - 0s 81ms/step - loss: 0.2501 - categorical_accuracy: 0.9014\n",
      "Epoch 46/400\n",
      "5/5 [==============================] - 0s 81ms/step - loss: 0.2214 - categorical_accuracy: 0.9155\n",
      "Epoch 47/400\n",
      "5/5 [==============================] - 0s 82ms/step - loss: 0.2179 - categorical_accuracy: 0.9155\n",
      "Epoch 48/400\n",
      "5/5 [==============================] - 0s 79ms/step - loss: 0.2136 - categorical_accuracy: 0.9225\n",
      "Epoch 49/400\n",
      "5/5 [==============================] - 0s 80ms/step - loss: 0.2141 - categorical_accuracy: 0.9085\n",
      "Epoch 50/400\n",
      "5/5 [==============================] - 0s 81ms/step - loss: 0.2113 - categorical_accuracy: 0.9155\n",
      "Epoch 51/400\n",
      "5/5 [==============================] - 0s 80ms/step - loss: 0.2217 - categorical_accuracy: 0.8944\n",
      "Epoch 52/400\n",
      "5/5 [==============================] - 0s 80ms/step - loss: 0.2155 - categorical_accuracy: 0.9155\n",
      "Epoch 53/400\n",
      "5/5 [==============================] - 0s 79ms/step - loss: 0.2031 - categorical_accuracy: 0.9155\n",
      "Epoch 54/400\n",
      "5/5 [==============================] - 0s 83ms/step - loss: 0.2505 - categorical_accuracy: 0.8803\n",
      "Epoch 55/400\n",
      "5/5 [==============================] - 0s 82ms/step - loss: 0.2086 - categorical_accuracy: 0.9085\n",
      "Epoch 56/400\n",
      "5/5 [==============================] - 0s 79ms/step - loss: 0.1991 - categorical_accuracy: 0.9155\n",
      "Epoch 57/400\n",
      "5/5 [==============================] - 0s 78ms/step - loss: 0.1986 - categorical_accuracy: 0.9296\n",
      "Epoch 58/400\n",
      "5/5 [==============================] - 0s 80ms/step - loss: 0.2011 - categorical_accuracy: 0.9155\n",
      "Epoch 59/400\n",
      "5/5 [==============================] - 0s 81ms/step - loss: 0.1984 - categorical_accuracy: 0.9155\n",
      "Epoch 60/400\n",
      "5/5 [==============================] - 0s 81ms/step - loss: 0.2038 - categorical_accuracy: 0.9155\n",
      "Epoch 61/400\n",
      "5/5 [==============================] - 0s 81ms/step - loss: 0.2246 - categorical_accuracy: 0.9085\n",
      "Epoch 62/400\n",
      "5/5 [==============================] - 0s 80ms/step - loss: 0.2107 - categorical_accuracy: 0.9296\n",
      "Epoch 63/400\n",
      "5/5 [==============================] - 0s 79ms/step - loss: 0.2127 - categorical_accuracy: 0.9085\n",
      "Epoch 64/400\n",
      "5/5 [==============================] - 0s 81ms/step - loss: 0.2397 - categorical_accuracy: 0.8803\n",
      "Epoch 65/400\n",
      "5/5 [==============================] - 0s 79ms/step - loss: 0.2403 - categorical_accuracy: 0.9155\n",
      "Epoch 66/400\n",
      "5/5 [==============================] - 0s 81ms/step - loss: 0.2196 - categorical_accuracy: 0.9085\n",
      "Epoch 67/400\n",
      "5/5 [==============================] - 0s 80ms/step - loss: 0.2523 - categorical_accuracy: 0.9085\n",
      "Epoch 68/400\n",
      "5/5 [==============================] - 0s 81ms/step - loss: 0.2441 - categorical_accuracy: 0.9155\n",
      "Epoch 69/400\n",
      "5/5 [==============================] - 0s 80ms/step - loss: 0.2421 - categorical_accuracy: 0.9014\n",
      "Epoch 70/400\n",
      "5/5 [==============================] - 0s 80ms/step - loss: 0.2217 - categorical_accuracy: 0.9085\n",
      "Epoch 71/400\n",
      "5/5 [==============================] - 0s 81ms/step - loss: 0.2086 - categorical_accuracy: 0.9225\n",
      "Epoch 72/400\n",
      "5/5 [==============================] - 0s 80ms/step - loss: 0.1953 - categorical_accuracy: 0.9296\n",
      "Epoch 73/400\n",
      "5/5 [==============================] - 0s 82ms/step - loss: 0.2346 - categorical_accuracy: 0.9014\n",
      "Epoch 74/400\n"
     ]
    },
    {
     "name": "stdout",
     "output_type": "stream",
     "text": [
      "5/5 [==============================] - 0s 81ms/step - loss: 0.2958 - categorical_accuracy: 0.8803\n",
      "Epoch 75/400\n",
      "5/5 [==============================] - 0s 79ms/step - loss: 0.5198 - categorical_accuracy: 0.7817\n",
      "Epoch 76/400\n",
      "5/5 [==============================] - 0s 82ms/step - loss: 0.8771 - categorical_accuracy: 0.6972\n",
      "Epoch 77/400\n",
      "5/5 [==============================] - 0s 80ms/step - loss: 0.5194 - categorical_accuracy: 0.8169\n",
      "Epoch 78/400\n",
      "5/5 [==============================] - 0s 81ms/step - loss: 0.5174 - categorical_accuracy: 0.8099\n",
      "Epoch 79/400\n",
      "5/5 [==============================] - 0s 82ms/step - loss: 0.5282 - categorical_accuracy: 0.8099\n",
      "Epoch 80/400\n",
      "5/5 [==============================] - 0s 81ms/step - loss: 0.3693 - categorical_accuracy: 0.8944\n",
      "Epoch 81/400\n",
      "5/5 [==============================] - 0s 80ms/step - loss: 0.3076 - categorical_accuracy: 0.9014\n",
      "Epoch 82/400\n",
      "5/5 [==============================] - 0s 81ms/step - loss: 0.2733 - categorical_accuracy: 0.9085\n",
      "Epoch 83/400\n",
      "5/5 [==============================] - 0s 79ms/step - loss: 0.2619 - categorical_accuracy: 0.9085\n",
      "Epoch 84/400\n",
      "5/5 [==============================] - 0s 83ms/step - loss: 0.2581 - categorical_accuracy: 0.8873\n",
      "Epoch 85/400\n",
      "5/5 [==============================] - 0s 83ms/step - loss: 0.2651 - categorical_accuracy: 0.9014\n",
      "Epoch 86/400\n",
      "5/5 [==============================] - 0s 86ms/step - loss: 0.2478 - categorical_accuracy: 0.9085\n",
      "Epoch 87/400\n",
      "5/5 [==============================] - 0s 90ms/step - loss: 0.2131 - categorical_accuracy: 0.9225\n",
      "Epoch 88/400\n",
      "5/5 [==============================] - 0s 87ms/step - loss: 0.2238 - categorical_accuracy: 0.9225\n",
      "Epoch 89/400\n",
      "5/5 [==============================] - 0s 79ms/step - loss: 0.2237 - categorical_accuracy: 0.9225\n",
      "Epoch 90/400\n",
      "5/5 [==============================] - 0s 82ms/step - loss: 0.2042 - categorical_accuracy: 0.9366\n",
      "Epoch 91/400\n",
      "5/5 [==============================] - 0s 81ms/step - loss: 0.2142 - categorical_accuracy: 0.9085\n",
      "Epoch 92/400\n",
      "5/5 [==============================] - 0s 79ms/step - loss: 0.1982 - categorical_accuracy: 0.9225\n",
      "Epoch 93/400\n",
      "5/5 [==============================] - 0s 82ms/step - loss: 0.1922 - categorical_accuracy: 0.9296\n",
      "Epoch 94/400\n",
      "5/5 [==============================] - 0s 81ms/step - loss: 0.1985 - categorical_accuracy: 0.9296\n",
      "Epoch 95/400\n",
      "5/5 [==============================] - 0s 82ms/step - loss: 0.1790 - categorical_accuracy: 0.9225\n",
      "Epoch 96/400\n",
      "5/5 [==============================] - 0s 81ms/step - loss: 0.1814 - categorical_accuracy: 0.9225\n",
      "Epoch 97/400\n",
      "5/5 [==============================] - 0s 80ms/step - loss: 0.2450 - categorical_accuracy: 0.8803\n",
      "Epoch 98/400\n",
      "5/5 [==============================] - 0s 82ms/step - loss: 0.2030 - categorical_accuracy: 0.9225\n",
      "Epoch 99/400\n",
      "5/5 [==============================] - 0s 87ms/step - loss: 0.1752 - categorical_accuracy: 0.9366\n",
      "Epoch 100/400\n",
      "5/5 [==============================] - 0s 86ms/step - loss: 0.1866 - categorical_accuracy: 0.9296\n",
      "Epoch 101/400\n",
      "5/5 [==============================] - 0s 85ms/step - loss: 0.1784 - categorical_accuracy: 0.9296\n",
      "Epoch 102/400\n",
      "5/5 [==============================] - 0s 86ms/step - loss: 0.1706 - categorical_accuracy: 0.9366\n",
      "Epoch 103/400\n",
      "5/5 [==============================] - 0s 80ms/step - loss: 0.1812 - categorical_accuracy: 0.9366\n",
      "Epoch 104/400\n",
      "5/5 [==============================] - 0s 86ms/step - loss: 0.2446 - categorical_accuracy: 0.9155\n",
      "Epoch 105/400\n",
      "5/5 [==============================] - 0s 86ms/step - loss: 0.3409 - categorical_accuracy: 0.8662\n",
      "Epoch 106/400\n",
      "5/5 [==============================] - 0s 85ms/step - loss: 0.4035 - categorical_accuracy: 0.8380\n",
      "Epoch 107/400\n",
      "5/5 [==============================] - 0s 81ms/step - loss: 0.3459 - categorical_accuracy: 0.8451\n",
      "Epoch 108/400\n",
      "5/5 [==============================] - 0s 86ms/step - loss: 0.3814 - categorical_accuracy: 0.8592\n",
      "Epoch 109/400\n",
      "5/5 [==============================] - 0s 80ms/step - loss: 0.3039 - categorical_accuracy: 0.8732\n",
      "Epoch 110/400\n",
      "5/5 [==============================] - 0s 80ms/step - loss: 0.2876 - categorical_accuracy: 0.8662\n",
      "Epoch 111/400\n",
      "5/5 [==============================] - 0s 79ms/step - loss: 0.1866 - categorical_accuracy: 0.9437\n",
      "Epoch 112/400\n",
      "5/5 [==============================] - 0s 80ms/step - loss: 0.1961 - categorical_accuracy: 0.9225\n",
      "Epoch 113/400\n",
      "5/5 [==============================] - 0s 82ms/step - loss: 0.1721 - categorical_accuracy: 0.9366\n",
      "Epoch 114/400\n",
      "5/5 [==============================] - 0s 80ms/step - loss: 0.1756 - categorical_accuracy: 0.9296\n",
      "Epoch 115/400\n",
      "5/5 [==============================] - 0s 82ms/step - loss: 0.2277 - categorical_accuracy: 0.9014\n",
      "Epoch 116/400\n",
      "5/5 [==============================] - 0s 81ms/step - loss: 0.1867 - categorical_accuracy: 0.9366\n",
      "Epoch 117/400\n",
      "5/5 [==============================] - 0s 81ms/step - loss: 0.2115 - categorical_accuracy: 0.8944\n",
      "Epoch 118/400\n",
      "5/5 [==============================] - 0s 79ms/step - loss: 0.1811 - categorical_accuracy: 0.9366\n",
      "Epoch 119/400\n",
      "5/5 [==============================] - 0s 81ms/step - loss: 0.1733 - categorical_accuracy: 0.9366\n",
      "Epoch 120/400\n",
      "5/5 [==============================] - 0s 81ms/step - loss: 0.1610 - categorical_accuracy: 0.9507\n",
      "Epoch 121/400\n",
      "5/5 [==============================] - 0s 80ms/step - loss: 0.1573 - categorical_accuracy: 0.9507\n",
      "Epoch 122/400\n",
      "5/5 [==============================] - 0s 80ms/step - loss: 0.1558 - categorical_accuracy: 0.9507\n",
      "Epoch 123/400\n",
      "5/5 [==============================] - 0s 82ms/step - loss: 0.1573 - categorical_accuracy: 0.9507\n",
      "Epoch 124/400\n",
      "5/5 [==============================] - 0s 81ms/step - loss: 0.1829 - categorical_accuracy: 0.9366\n",
      "Epoch 125/400\n",
      "5/5 [==============================] - 0s 80ms/step - loss: 0.1398 - categorical_accuracy: 0.9507\n",
      "Epoch 126/400\n",
      "5/5 [==============================] - 0s 80ms/step - loss: 0.1571 - categorical_accuracy: 0.9366\n",
      "Epoch 127/400\n",
      "5/5 [==============================] - 0s 82ms/step - loss: 0.1423 - categorical_accuracy: 0.9437\n",
      "Epoch 128/400\n",
      "5/5 [==============================] - 0s 81ms/step - loss: 0.1782 - categorical_accuracy: 0.9507\n",
      "Epoch 129/400\n",
      "5/5 [==============================] - 0s 80ms/step - loss: 0.1433 - categorical_accuracy: 0.9437\n",
      "Epoch 130/400\n",
      "5/5 [==============================] - 0s 82ms/step - loss: 0.1626 - categorical_accuracy: 0.9366\n",
      "Epoch 131/400\n",
      "5/5 [==============================] - 0s 82ms/step - loss: 0.1435 - categorical_accuracy: 0.9366\n",
      "Epoch 132/400\n",
      "5/5 [==============================] - 0s 84ms/step - loss: 0.1356 - categorical_accuracy: 0.9507\n",
      "Epoch 133/400\n",
      "5/5 [==============================] - 0s 81ms/step - loss: 0.1404 - categorical_accuracy: 0.9577\n",
      "Epoch 134/400\n",
      "5/5 [==============================] - 0s 82ms/step - loss: 0.1986 - categorical_accuracy: 0.9225\n",
      "Epoch 135/400\n",
      "5/5 [==============================] - 0s 81ms/step - loss: 0.3457 - categorical_accuracy: 0.8380\n",
      "Epoch 136/400\n",
      "5/5 [==============================] - 0s 83ms/step - loss: 0.3534 - categorical_accuracy: 0.8451\n",
      "Epoch 137/400\n",
      "5/5 [==============================] - 0s 82ms/step - loss: 0.2288 - categorical_accuracy: 0.8873\n",
      "Epoch 138/400\n",
      "5/5 [==============================] - 0s 82ms/step - loss: 0.1772 - categorical_accuracy: 0.9507\n",
      "Epoch 139/400\n",
      "5/5 [==============================] - 0s 79ms/step - loss: 0.2159 - categorical_accuracy: 0.9085\n",
      "Epoch 140/400\n",
      "5/5 [==============================] - 0s 82ms/step - loss: 0.1651 - categorical_accuracy: 0.9507\n",
      "Epoch 141/400\n",
      "5/5 [==============================] - 0s 81ms/step - loss: 0.1734 - categorical_accuracy: 0.9648\n",
      "Epoch 142/400\n",
      "5/5 [==============================] - 0s 81ms/step - loss: 0.2015 - categorical_accuracy: 0.9155\n",
      "Epoch 143/400\n",
      "5/5 [==============================] - 0s 80ms/step - loss: 0.1706 - categorical_accuracy: 0.9507\n",
      "Epoch 144/400\n",
      "5/5 [==============================] - 0s 81ms/step - loss: 0.1713 - categorical_accuracy: 0.9366\n",
      "Epoch 145/400\n",
      "5/5 [==============================] - 0s 81ms/step - loss: 0.1488 - categorical_accuracy: 0.9225\n",
      "Epoch 146/400\n",
      "5/5 [==============================] - 0s 80ms/step - loss: 0.1366 - categorical_accuracy: 0.9577\n",
      "Epoch 147/400\n"
     ]
    },
    {
     "name": "stdout",
     "output_type": "stream",
     "text": [
      "5/5 [==============================] - 0s 78ms/step - loss: 0.1422 - categorical_accuracy: 0.9507\n",
      "Epoch 148/400\n",
      "5/5 [==============================] - 0s 82ms/step - loss: 0.1274 - categorical_accuracy: 0.9577\n",
      "Epoch 149/400\n",
      "5/5 [==============================] - 0s 82ms/step - loss: 0.1388 - categorical_accuracy: 0.9437\n",
      "Epoch 150/400\n",
      "5/5 [==============================] - 0s 82ms/step - loss: 0.1452 - categorical_accuracy: 0.9718\n",
      "Epoch 151/400\n",
      "5/5 [==============================] - 0s 78ms/step - loss: 0.1966 - categorical_accuracy: 0.9437\n",
      "Epoch 152/400\n",
      "5/5 [==============================] - 0s 81ms/step - loss: 0.1477 - categorical_accuracy: 0.9437\n",
      "Epoch 153/400\n",
      "5/5 [==============================] - 0s 81ms/step - loss: 0.1335 - categorical_accuracy: 0.9507\n",
      "Epoch 154/400\n",
      "5/5 [==============================] - 0s 80ms/step - loss: 0.1345 - categorical_accuracy: 0.9507\n",
      "Epoch 155/400\n",
      "5/5 [==============================] - 0s 80ms/step - loss: 0.1350 - categorical_accuracy: 0.9507\n",
      "Epoch 156/400\n",
      "5/5 [==============================] - 0s 81ms/step - loss: 0.1237 - categorical_accuracy: 0.9507\n",
      "Epoch 157/400\n",
      "5/5 [==============================] - 0s 81ms/step - loss: 0.1195 - categorical_accuracy: 0.9648\n",
      "Epoch 158/400\n",
      "5/5 [==============================] - 0s 82ms/step - loss: 0.1205 - categorical_accuracy: 0.9577\n",
      "Epoch 159/400\n",
      "5/5 [==============================] - 0s 81ms/step - loss: 0.1206 - categorical_accuracy: 0.9648\n",
      "Epoch 160/400\n",
      "5/5 [==============================] - 0s 81ms/step - loss: 0.1236 - categorical_accuracy: 0.9577\n",
      "Epoch 161/400\n",
      "5/5 [==============================] - 0s 83ms/step - loss: 0.1442 - categorical_accuracy: 0.9507\n",
      "Epoch 162/400\n",
      "5/5 [==============================] - 0s 80ms/step - loss: 0.1458 - categorical_accuracy: 0.9437\n",
      "Epoch 163/400\n",
      "5/5 [==============================] - 0s 81ms/step - loss: 0.1288 - categorical_accuracy: 0.9648\n",
      "Epoch 164/400\n",
      "5/5 [==============================] - 0s 80ms/step - loss: 0.1055 - categorical_accuracy: 0.9718\n",
      "Epoch 165/400\n",
      "5/5 [==============================] - 0s 86ms/step - loss: 0.1100 - categorical_accuracy: 0.9648\n",
      "Epoch 166/400\n",
      "5/5 [==============================] - 0s 80ms/step - loss: 0.1144 - categorical_accuracy: 0.9648\n",
      "Epoch 167/400\n",
      "5/5 [==============================] - 0s 81ms/step - loss: 0.1023 - categorical_accuracy: 0.9577\n",
      "Epoch 168/400\n",
      "5/5 [==============================] - 0s 80ms/step - loss: 0.1019 - categorical_accuracy: 0.9718\n",
      "Epoch 169/400\n",
      "5/5 [==============================] - 0s 82ms/step - loss: 0.1185 - categorical_accuracy: 0.9437\n",
      "Epoch 170/400\n",
      "5/5 [==============================] - 0s 81ms/step - loss: 0.1018 - categorical_accuracy: 0.9648\n",
      "Epoch 171/400\n",
      "5/5 [==============================] - 0s 80ms/step - loss: 0.1106 - categorical_accuracy: 0.9718\n",
      "Epoch 172/400\n",
      "5/5 [==============================] - 0s 83ms/step - loss: 0.1069 - categorical_accuracy: 0.9507\n",
      "Epoch 173/400\n",
      "5/5 [==============================] - 0s 80ms/step - loss: 0.1635 - categorical_accuracy: 0.9296\n",
      "Epoch 174/400\n",
      "5/5 [==============================] - 0s 81ms/step - loss: 0.1094 - categorical_accuracy: 0.9718\n",
      "Epoch 175/400\n",
      "5/5 [==============================] - 0s 79ms/step - loss: 0.0909 - categorical_accuracy: 0.9648\n",
      "Epoch 176/400\n",
      "5/5 [==============================] - 0s 81ms/step - loss: 0.0881 - categorical_accuracy: 0.9648\n",
      "Epoch 177/400\n",
      "5/5 [==============================] - 0s 80ms/step - loss: 0.0938 - categorical_accuracy: 0.9648\n",
      "Epoch 178/400\n",
      "5/5 [==============================] - 0s 82ms/step - loss: 0.1219 - categorical_accuracy: 0.9507\n",
      "Epoch 179/400\n",
      "5/5 [==============================] - 0s 82ms/step - loss: 0.2572 - categorical_accuracy: 0.8873\n",
      "Epoch 180/400\n",
      "5/5 [==============================] - 0s 81ms/step - loss: 0.1679 - categorical_accuracy: 0.9296\n",
      "Epoch 181/400\n",
      "5/5 [==============================] - 0s 80ms/step - loss: 0.8485 - categorical_accuracy: 0.8239\n",
      "Epoch 182/400\n",
      "5/5 [==============================] - 0s 82ms/step - loss: 0.7987 - categorical_accuracy: 0.7817\n",
      "Epoch 183/400\n",
      "5/5 [==============================] - 0s 80ms/step - loss: 0.6309 - categorical_accuracy: 0.7394\n",
      "Epoch 184/400\n",
      "5/5 [==============================] - 0s 80ms/step - loss: 0.4219 - categorical_accuracy: 0.7958\n",
      "Epoch 185/400\n",
      "5/5 [==============================] - 0s 82ms/step - loss: 0.3737 - categorical_accuracy: 0.8592\n",
      "Epoch 186/400\n",
      "5/5 [==============================] - 0s 80ms/step - loss: 0.2977 - categorical_accuracy: 0.9296\n",
      "Epoch 187/400\n",
      "5/5 [==============================] - 0s 82ms/step - loss: 0.2328 - categorical_accuracy: 0.9437\n",
      "Epoch 188/400\n",
      "5/5 [==============================] - 0s 83ms/step - loss: 0.1730 - categorical_accuracy: 0.9648\n",
      "Epoch 189/400\n",
      "5/5 [==============================] - 0s 81ms/step - loss: 0.1759 - categorical_accuracy: 0.9507\n",
      "Epoch 190/400\n",
      "5/5 [==============================] - 0s 82ms/step - loss: 0.1334 - categorical_accuracy: 0.9648\n",
      "Epoch 191/400\n",
      "5/5 [==============================] - 0s 79ms/step - loss: 0.1164 - categorical_accuracy: 0.9648\n",
      "Epoch 192/400\n",
      "5/5 [==============================] - 0s 82ms/step - loss: 0.1066 - categorical_accuracy: 0.9718\n",
      "Epoch 193/400\n",
      "5/5 [==============================] - 0s 81ms/step - loss: 0.1270 - categorical_accuracy: 0.9648\n",
      "Epoch 194/400\n",
      "5/5 [==============================] - 0s 81ms/step - loss: 0.1274 - categorical_accuracy: 0.9648\n",
      "Epoch 195/400\n",
      "5/5 [==============================] - 0s 81ms/step - loss: 0.2183 - categorical_accuracy: 0.9296\n",
      "Epoch 196/400\n",
      "5/5 [==============================] - 0s 80ms/step - loss: 0.1018 - categorical_accuracy: 0.9718\n",
      "Epoch 197/400\n",
      "5/5 [==============================] - 0s 81ms/step - loss: 0.1319 - categorical_accuracy: 0.9577\n",
      "Epoch 198/400\n",
      "5/5 [==============================] - 0s 80ms/step - loss: 0.1359 - categorical_accuracy: 0.9577\n",
      "Epoch 199/400\n",
      "5/5 [==============================] - 0s 80ms/step - loss: 0.0934 - categorical_accuracy: 0.9648\n",
      "Epoch 200/400\n",
      "5/5 [==============================] - 0s 81ms/step - loss: 0.1217 - categorical_accuracy: 0.9648\n",
      "Epoch 201/400\n",
      "5/5 [==============================] - 0s 80ms/step - loss: 0.0875 - categorical_accuracy: 0.9789\n",
      "Epoch 202/400\n",
      "5/5 [==============================] - 0s 80ms/step - loss: 0.0889 - categorical_accuracy: 0.9789\n",
      "Epoch 203/400\n",
      "5/5 [==============================] - 0s 82ms/step - loss: 0.0835 - categorical_accuracy: 0.9718\n",
      "Epoch 204/400\n",
      "5/5 [==============================] - 0s 80ms/step - loss: 0.0882 - categorical_accuracy: 0.9648\n",
      "Epoch 205/400\n",
      "5/5 [==============================] - 0s 81ms/step - loss: 0.1037 - categorical_accuracy: 0.9718\n",
      "Epoch 206/400\n",
      "5/5 [==============================] - 0s 80ms/step - loss: 0.2031 - categorical_accuracy: 0.9437\n",
      "Epoch 207/400\n",
      "5/5 [==============================] - 0s 81ms/step - loss: 0.1017 - categorical_accuracy: 0.9507\n",
      "Epoch 208/400\n",
      "5/5 [==============================] - 0s 79ms/step - loss: 0.1623 - categorical_accuracy: 0.9507\n",
      "Epoch 209/400\n",
      "5/5 [==============================] - 0s 80ms/step - loss: 0.4749 - categorical_accuracy: 0.8310\n",
      "Epoch 210/400\n",
      "5/5 [==============================] - 0s 81ms/step - loss: 0.8503 - categorical_accuracy: 0.7958\n",
      "Epoch 211/400\n",
      "5/5 [==============================] - 0s 82ms/step - loss: 0.4193 - categorical_accuracy: 0.8380\n",
      "Epoch 212/400\n",
      "5/5 [==============================] - 0s 82ms/step - loss: 0.3651 - categorical_accuracy: 0.8169\n",
      "Epoch 213/400\n",
      "5/5 [==============================] - 0s 80ms/step - loss: 0.7956 - categorical_accuracy: 0.7254\n",
      "Epoch 214/400\n",
      "5/5 [==============================] - 0s 82ms/step - loss: 0.7587 - categorical_accuracy: 0.8028\n",
      "Epoch 215/400\n",
      "5/5 [==============================] - 0s 82ms/step - loss: 0.7977 - categorical_accuracy: 0.6338\n",
      "Epoch 216/400\n",
      "5/5 [==============================] - 0s 80ms/step - loss: 0.5063 - categorical_accuracy: 0.8873\n",
      "Epoch 217/400\n",
      "5/5 [==============================] - 0s 83ms/step - loss: 0.3340 - categorical_accuracy: 0.9225\n",
      "Epoch 218/400\n",
      "5/5 [==============================] - 0s 82ms/step - loss: 0.2727 - categorical_accuracy: 0.9296\n",
      "Epoch 219/400\n",
      "5/5 [==============================] - 0s 80ms/step - loss: 0.2354 - categorical_accuracy: 0.9437\n",
      "Epoch 220/400\n"
     ]
    },
    {
     "name": "stdout",
     "output_type": "stream",
     "text": [
      "5/5 [==============================] - 0s 81ms/step - loss: 0.2428 - categorical_accuracy: 0.9085\n",
      "Epoch 221/400\n",
      "5/5 [==============================] - 0s 82ms/step - loss: 0.2321 - categorical_accuracy: 0.9366\n",
      "Epoch 222/400\n",
      "5/5 [==============================] - 0s 82ms/step - loss: 0.1909 - categorical_accuracy: 0.9507\n",
      "Epoch 223/400\n",
      "5/5 [==============================] - 0s 80ms/step - loss: 0.2029 - categorical_accuracy: 0.9366\n",
      "Epoch 224/400\n",
      "5/5 [==============================] - 0s 79ms/step - loss: 0.1594 - categorical_accuracy: 0.9718\n",
      "Epoch 225/400\n",
      "5/5 [==============================] - 0s 79ms/step - loss: 0.1497 - categorical_accuracy: 0.9718\n",
      "Epoch 226/400\n",
      "5/5 [==============================] - 0s 80ms/step - loss: 0.1402 - categorical_accuracy: 0.9507\n",
      "Epoch 227/400\n",
      "5/5 [==============================] - 0s 81ms/step - loss: 0.1329 - categorical_accuracy: 0.9648\n",
      "Epoch 228/400\n",
      "5/5 [==============================] - 0s 85ms/step - loss: 0.1230 - categorical_accuracy: 0.9648\n",
      "Epoch 229/400\n",
      "5/5 [==============================] - 0s 83ms/step - loss: 0.1179 - categorical_accuracy: 0.9789\n",
      "Epoch 230/400\n",
      "5/5 [==============================] - 0s 79ms/step - loss: 0.1112 - categorical_accuracy: 0.9718\n",
      "Epoch 231/400\n",
      "5/5 [==============================] - 0s 81ms/step - loss: 0.1117 - categorical_accuracy: 0.9648\n",
      "Epoch 232/400\n",
      "5/5 [==============================] - 0s 81ms/step - loss: 0.1107 - categorical_accuracy: 0.9718\n",
      "Epoch 233/400\n",
      "5/5 [==============================] - 0s 81ms/step - loss: 0.1197 - categorical_accuracy: 0.9577\n",
      "Epoch 234/400\n",
      "5/5 [==============================] - 0s 82ms/step - loss: 0.1480 - categorical_accuracy: 0.9366\n",
      "Epoch 235/400\n",
      "5/5 [==============================] - 0s 81ms/step - loss: 0.1154 - categorical_accuracy: 0.9577\n",
      "Epoch 236/400\n",
      "5/5 [==============================] - 0s 81ms/step - loss: 0.1339 - categorical_accuracy: 0.9507\n",
      "Epoch 237/400\n",
      "5/5 [==============================] - 0s 81ms/step - loss: 0.2011 - categorical_accuracy: 0.9366\n",
      "Epoch 238/400\n",
      "5/5 [==============================] - 0s 84ms/step - loss: 0.2341 - categorical_accuracy: 0.8873\n",
      "Epoch 239/400\n",
      "5/5 [==============================] - 0s 84ms/step - loss: 0.1399 - categorical_accuracy: 0.9507\n",
      "Epoch 240/400\n",
      "5/5 [==============================] - 0s 87ms/step - loss: 0.0934 - categorical_accuracy: 0.9789\n",
      "Epoch 241/400\n",
      "5/5 [==============================] - 0s 86ms/step - loss: 0.1001 - categorical_accuracy: 0.9648\n",
      "Epoch 242/400\n",
      "5/5 [==============================] - 0s 88ms/step - loss: 0.0901 - categorical_accuracy: 0.9718\n",
      "Epoch 243/400\n",
      "5/5 [==============================] - 0s 88ms/step - loss: 0.0911 - categorical_accuracy: 0.9718\n",
      "Epoch 244/400\n",
      "5/5 [==============================] - 0s 82ms/step - loss: 0.0857 - categorical_accuracy: 0.9718\n",
      "Epoch 245/400\n",
      "5/5 [==============================] - 0s 82ms/step - loss: 0.0817 - categorical_accuracy: 0.9789\n",
      "Epoch 246/400\n",
      "5/5 [==============================] - 0s 84ms/step - loss: 0.0820 - categorical_accuracy: 0.9789\n",
      "Epoch 247/400\n",
      "5/5 [==============================] - 0s 82ms/step - loss: 0.0965 - categorical_accuracy: 0.9718\n",
      "Epoch 248/400\n",
      "5/5 [==============================] - 0s 84ms/step - loss: 0.1596 - categorical_accuracy: 0.9437\n",
      "Epoch 249/400\n",
      "5/5 [==============================] - 0s 86ms/step - loss: 0.2240 - categorical_accuracy: 0.9085\n",
      "Epoch 250/400\n",
      "5/5 [==============================] - 0s 83ms/step - loss: 0.2708 - categorical_accuracy: 0.9014\n",
      "Epoch 251/400\n",
      "5/5 [==============================] - 0s 83ms/step - loss: 0.1037 - categorical_accuracy: 0.9789\n",
      "Epoch 252/400\n",
      "5/5 [==============================] - 0s 83ms/step - loss: 0.1112 - categorical_accuracy: 0.9648\n",
      "Epoch 253/400\n",
      "5/5 [==============================] - 0s 86ms/step - loss: 0.1134 - categorical_accuracy: 0.9577\n",
      "Epoch 254/400\n",
      "5/5 [==============================] - 0s 84ms/step - loss: 0.1017 - categorical_accuracy: 0.9718\n",
      "Epoch 255/400\n",
      "5/5 [==============================] - 0s 80ms/step - loss: 0.1147 - categorical_accuracy: 0.9648\n",
      "Epoch 256/400\n",
      "5/5 [==============================] - 0s 82ms/step - loss: 0.0857 - categorical_accuracy: 0.9789\n",
      "Epoch 257/400\n",
      "5/5 [==============================] - 0s 89ms/step - loss: 0.0816 - categorical_accuracy: 0.9718\n",
      "Epoch 258/400\n",
      "5/5 [==============================] - 0s 80ms/step - loss: 0.0716 - categorical_accuracy: 0.9718\n",
      "Epoch 259/400\n",
      "5/5 [==============================] - 0s 81ms/step - loss: 0.0766 - categorical_accuracy: 0.9789\n",
      "Epoch 260/400\n",
      "5/5 [==============================] - 0s 80ms/step - loss: 0.0714 - categorical_accuracy: 0.9789\n",
      "Epoch 261/400\n",
      "5/5 [==============================] - 0s 82ms/step - loss: 0.0619 - categorical_accuracy: 0.9859\n",
      "Epoch 262/400\n",
      "5/5 [==============================] - 0s 79ms/step - loss: 0.0655 - categorical_accuracy: 0.9789\n",
      "Epoch 263/400\n",
      "5/5 [==============================] - 0s 87ms/step - loss: 0.0637 - categorical_accuracy: 0.9789\n",
      "Epoch 264/400\n",
      "5/5 [==============================] - 0s 81ms/step - loss: 0.0665 - categorical_accuracy: 0.9789\n",
      "Epoch 265/400\n",
      "5/5 [==============================] - 0s 83ms/step - loss: 0.0562 - categorical_accuracy: 0.9859\n",
      "Epoch 266/400\n",
      "5/5 [==============================] - 0s 81ms/step - loss: 0.0610 - categorical_accuracy: 0.9789\n",
      "Epoch 267/400\n",
      "5/5 [==============================] - 0s 88ms/step - loss: 0.0619 - categorical_accuracy: 0.9789\n",
      "Epoch 268/400\n",
      "5/5 [==============================] - 0s 84ms/step - loss: 0.0686 - categorical_accuracy: 0.9718\n",
      "Epoch 269/400\n",
      "5/5 [==============================] - 0s 80ms/step - loss: 0.0642 - categorical_accuracy: 0.9789\n",
      "Epoch 270/400\n",
      "5/5 [==============================] - 0s 84ms/step - loss: 0.0473 - categorical_accuracy: 0.9930\n",
      "Epoch 271/400\n",
      "5/5 [==============================] - 0s 82ms/step - loss: 0.0499 - categorical_accuracy: 0.9930\n",
      "Epoch 272/400\n",
      "5/5 [==============================] - 0s 80ms/step - loss: 0.0510 - categorical_accuracy: 0.9930\n",
      "Epoch 273/400\n",
      "5/5 [==============================] - 0s 82ms/step - loss: 0.0445 - categorical_accuracy: 0.9930\n",
      "Epoch 274/400\n",
      "5/5 [==============================] - 0s 80ms/step - loss: 0.0489 - categorical_accuracy: 0.9930\n",
      "Epoch 275/400\n",
      "5/5 [==============================] - 0s 82ms/step - loss: 0.0497 - categorical_accuracy: 0.9859\n",
      "Epoch 276/400\n",
      "5/5 [==============================] - 0s 82ms/step - loss: 0.0547 - categorical_accuracy: 0.9789\n",
      "Epoch 277/400\n",
      "5/5 [==============================] - 0s 82ms/step - loss: 0.0530 - categorical_accuracy: 0.9859\n",
      "Epoch 278/400\n",
      "5/5 [==============================] - 0s 81ms/step - loss: 0.1329 - categorical_accuracy: 0.9577\n",
      "Epoch 279/400\n",
      "5/5 [==============================] - 0s 80ms/step - loss: 0.4122 - categorical_accuracy: 0.8662\n",
      "Epoch 280/400\n",
      "5/5 [==============================] - 0s 83ms/step - loss: 0.0808 - categorical_accuracy: 0.9648\n",
      "Epoch 281/400\n",
      "5/5 [==============================] - 0s 82ms/step - loss: 0.0612 - categorical_accuracy: 0.9859\n",
      "Epoch 282/400\n",
      "5/5 [==============================] - 0s 81ms/step - loss: 0.0944 - categorical_accuracy: 0.9648\n",
      "Epoch 283/400\n",
      "5/5 [==============================] - 0s 81ms/step - loss: 0.0447 - categorical_accuracy: 0.9930\n",
      "Epoch 284/400\n",
      "5/5 [==============================] - 0s 80ms/step - loss: 0.0640 - categorical_accuracy: 0.9718\n",
      "Epoch 285/400\n",
      "5/5 [==============================] - 0s 82ms/step - loss: 0.0544 - categorical_accuracy: 0.9789\n",
      "Epoch 286/400\n",
      "5/5 [==============================] - 0s 81ms/step - loss: 0.0586 - categorical_accuracy: 0.9789\n",
      "Epoch 287/400\n",
      "5/5 [==============================] - 0s 79ms/step - loss: 0.0639 - categorical_accuracy: 0.9789\n",
      "Epoch 288/400\n",
      "5/5 [==============================] - 0s 80ms/step - loss: 0.0678 - categorical_accuracy: 0.9789\n",
      "Epoch 289/400\n",
      "5/5 [==============================] - 0s 80ms/step - loss: 0.0584 - categorical_accuracy: 0.9859\n",
      "Epoch 290/400\n",
      "5/5 [==============================] - 0s 81ms/step - loss: 0.0518 - categorical_accuracy: 0.9789\n",
      "Epoch 291/400\n",
      "5/5 [==============================] - 0s 81ms/step - loss: 0.0431 - categorical_accuracy: 0.9859\n",
      "Epoch 292/400\n",
      "5/5 [==============================] - 0s 80ms/step - loss: 0.0759 - categorical_accuracy: 0.9789\n",
      "Epoch 293/400\n"
     ]
    },
    {
     "name": "stdout",
     "output_type": "stream",
     "text": [
      "5/5 [==============================] - 0s 81ms/step - loss: 0.2059 - categorical_accuracy: 0.9437\n",
      "Epoch 294/400\n",
      "5/5 [==============================] - 0s 80ms/step - loss: 0.4070 - categorical_accuracy: 0.8732\n",
      "Epoch 295/400\n",
      "5/5 [==============================] - 0s 80ms/step - loss: 0.2235 - categorical_accuracy: 0.9155\n",
      "Epoch 296/400\n",
      "5/5 [==============================] - 0s 81ms/step - loss: 0.1651 - categorical_accuracy: 0.9577\n",
      "Epoch 297/400\n",
      "5/5 [==============================] - 0s 82ms/step - loss: 0.1520 - categorical_accuracy: 0.9296\n",
      "Epoch 298/400\n",
      "5/5 [==============================] - 0s 82ms/step - loss: 0.1020 - categorical_accuracy: 0.9718\n",
      "Epoch 299/400\n",
      "5/5 [==============================] - 0s 80ms/step - loss: 0.1082 - categorical_accuracy: 0.9648\n",
      "Epoch 300/400\n",
      "5/5 [==============================] - 0s 81ms/step - loss: 0.0768 - categorical_accuracy: 0.9789\n",
      "Epoch 301/400\n",
      "5/5 [==============================] - 0s 79ms/step - loss: 0.0826 - categorical_accuracy: 0.9789\n",
      "Epoch 302/400\n",
      "5/5 [==============================] - 0s 81ms/step - loss: 0.0641 - categorical_accuracy: 0.9859\n",
      "Epoch 303/400\n",
      "5/5 [==============================] - 0s 81ms/step - loss: 0.0581 - categorical_accuracy: 0.9930\n",
      "Epoch 304/400\n",
      "5/5 [==============================] - 0s 82ms/step - loss: 0.0611 - categorical_accuracy: 0.9859\n",
      "Epoch 305/400\n",
      "5/5 [==============================] - 0s 82ms/step - loss: 0.0653 - categorical_accuracy: 0.9789\n",
      "Epoch 306/400\n",
      "5/5 [==============================] - 0s 80ms/step - loss: 0.0578 - categorical_accuracy: 0.9859\n",
      "Epoch 307/400\n",
      "5/5 [==============================] - 0s 80ms/step - loss: 0.0552 - categorical_accuracy: 0.9789\n",
      "Epoch 308/400\n",
      "5/5 [==============================] - 0s 81ms/step - loss: 0.0554 - categorical_accuracy: 0.9859\n",
      "Epoch 309/400\n",
      "5/5 [==============================] - 0s 82ms/step - loss: 0.0496 - categorical_accuracy: 0.9859\n",
      "Epoch 310/400\n",
      "5/5 [==============================] - 0s 81ms/step - loss: 0.0418 - categorical_accuracy: 0.9930\n",
      "Epoch 311/400\n",
      "5/5 [==============================] - 0s 80ms/step - loss: 0.0475 - categorical_accuracy: 0.9859\n",
      "Epoch 312/400\n",
      "5/5 [==============================] - 0s 81ms/step - loss: 0.0479 - categorical_accuracy: 0.9930\n",
      "Epoch 313/400\n",
      "5/5 [==============================] - 0s 80ms/step - loss: 0.0390 - categorical_accuracy: 0.9930\n",
      "Epoch 314/400\n",
      "5/5 [==============================] - 0s 80ms/step - loss: 0.0404 - categorical_accuracy: 0.9930\n",
      "Epoch 315/400\n",
      "5/5 [==============================] - 0s 83ms/step - loss: 0.0617 - categorical_accuracy: 0.9789\n",
      "Epoch 316/400\n",
      "5/5 [==============================] - 0s 79ms/step - loss: 0.0864 - categorical_accuracy: 0.9789\n",
      "Epoch 317/400\n",
      "5/5 [==============================] - 0s 81ms/step - loss: 0.0637 - categorical_accuracy: 0.9859\n",
      "Epoch 318/400\n",
      "5/5 [==============================] - 0s 81ms/step - loss: 0.0500 - categorical_accuracy: 0.9789\n",
      "Epoch 319/400\n",
      "5/5 [==============================] - 0s 80ms/step - loss: 0.0411 - categorical_accuracy: 0.9859\n",
      "Epoch 320/400\n",
      "5/5 [==============================] - 0s 81ms/step - loss: 0.0442 - categorical_accuracy: 0.9859\n",
      "Epoch 321/400\n",
      "5/5 [==============================] - 0s 79ms/step - loss: 0.0492 - categorical_accuracy: 0.9859\n",
      "Epoch 322/400\n",
      "5/5 [==============================] - 0s 82ms/step - loss: 0.1248 - categorical_accuracy: 0.9507\n",
      "Epoch 323/400\n",
      "5/5 [==============================] - 0s 80ms/step - loss: 0.0721 - categorical_accuracy: 0.9789\n",
      "Epoch 324/400\n",
      "5/5 [==============================] - 0s 80ms/step - loss: 0.0952 - categorical_accuracy: 0.9718\n",
      "Epoch 325/400\n",
      "5/5 [==============================] - 0s 82ms/step - loss: 0.0504 - categorical_accuracy: 0.9859\n",
      "Epoch 326/400\n",
      "5/5 [==============================] - 0s 81ms/step - loss: 0.0389 - categorical_accuracy: 0.9930\n",
      "Epoch 327/400\n",
      "5/5 [==============================] - 0s 81ms/step - loss: 0.0605 - categorical_accuracy: 0.9718\n",
      "Epoch 328/400\n",
      "5/5 [==============================] - 0s 82ms/step - loss: 0.1064 - categorical_accuracy: 0.9507\n",
      "Epoch 329/400\n",
      "5/5 [==============================] - 0s 81ms/step - loss: 0.1118 - categorical_accuracy: 0.9437\n",
      "Epoch 330/400\n",
      "5/5 [==============================] - 0s 81ms/step - loss: 0.0649 - categorical_accuracy: 0.9859\n",
      "Epoch 331/400\n",
      "5/5 [==============================] - 0s 81ms/step - loss: 0.0714 - categorical_accuracy: 0.9789\n",
      "Epoch 332/400\n",
      "5/5 [==============================] - 0s 81ms/step - loss: 0.0664 - categorical_accuracy: 0.9789\n",
      "Epoch 333/400\n",
      "5/5 [==============================] - 0s 80ms/step - loss: 0.0565 - categorical_accuracy: 0.9859\n",
      "Epoch 334/400\n",
      "5/5 [==============================] - 0s 78ms/step - loss: 0.0579 - categorical_accuracy: 0.9789\n",
      "Epoch 335/400\n",
      "5/5 [==============================] - 0s 81ms/step - loss: 0.0523 - categorical_accuracy: 0.9859\n",
      "Epoch 336/400\n",
      "5/5 [==============================] - 0s 81ms/step - loss: 0.0435 - categorical_accuracy: 0.9859\n",
      "Epoch 337/400\n",
      "5/5 [==============================] - 0s 91ms/step - loss: 0.0338 - categorical_accuracy: 0.9930\n",
      "Epoch 338/400\n",
      "5/5 [==============================] - 0s 90ms/step - loss: 0.0360 - categorical_accuracy: 0.9930\n",
      "Epoch 339/400\n",
      "5/5 [==============================] - 0s 86ms/step - loss: 0.0314 - categorical_accuracy: 0.9930\n",
      "Epoch 340/400\n",
      "5/5 [==============================] - 0s 84ms/step - loss: 0.0289 - categorical_accuracy: 0.9930\n",
      "Epoch 341/400\n",
      "5/5 [==============================] - 0s 86ms/step - loss: 0.0329 - categorical_accuracy: 0.9930\n",
      "Epoch 342/400\n",
      "5/5 [==============================] - 0s 86ms/step - loss: 0.0321 - categorical_accuracy: 0.9930\n",
      "Epoch 343/400\n",
      "5/5 [==============================] - 0s 81ms/step - loss: 0.0385 - categorical_accuracy: 0.9930\n",
      "Epoch 344/400\n",
      "5/5 [==============================] - 0s 81ms/step - loss: 0.0556 - categorical_accuracy: 0.9789\n",
      "Epoch 345/400\n",
      "5/5 [==============================] - 0s 81ms/step - loss: 0.2087 - categorical_accuracy: 0.9577\n",
      "Epoch 346/400\n",
      "5/5 [==============================] - 0s 81ms/step - loss: 0.0537 - categorical_accuracy: 0.9859\n",
      "Epoch 347/400\n",
      "5/5 [==============================] - 0s 81ms/step - loss: 0.1556 - categorical_accuracy: 0.9577\n",
      "Epoch 348/400\n",
      "5/5 [==============================] - 0s 81ms/step - loss: 0.1598 - categorical_accuracy: 0.9718\n",
      "Epoch 349/400\n",
      "5/5 [==============================] - 0s 85ms/step - loss: 0.0836 - categorical_accuracy: 0.9789\n",
      "Epoch 350/400\n",
      "5/5 [==============================] - 0s 84ms/step - loss: 0.0754 - categorical_accuracy: 0.9859\n",
      "Epoch 351/400\n",
      "5/5 [==============================] - 0s 85ms/step - loss: 0.0507 - categorical_accuracy: 0.9930\n",
      "Epoch 352/400\n",
      "5/5 [==============================] - 0s 82ms/step - loss: 0.0476 - categorical_accuracy: 0.9930\n",
      "Epoch 353/400\n",
      "5/5 [==============================] - 0s 83ms/step - loss: 0.0392 - categorical_accuracy: 0.9930\n",
      "Epoch 354/400\n",
      "5/5 [==============================] - 0s 86ms/step - loss: 0.0346 - categorical_accuracy: 0.9930\n",
      "Epoch 355/400\n",
      "5/5 [==============================] - 0s 82ms/step - loss: 0.0352 - categorical_accuracy: 0.9930\n",
      "Epoch 356/400\n",
      "5/5 [==============================] - 0s 85ms/step - loss: 0.0334 - categorical_accuracy: 0.9930\n",
      "Epoch 357/400\n",
      "5/5 [==============================] - 0s 82ms/step - loss: 0.0332 - categorical_accuracy: 0.9930\n",
      "Epoch 358/400\n",
      "5/5 [==============================] - 0s 84ms/step - loss: 0.0320 - categorical_accuracy: 0.9930\n",
      "Epoch 359/400\n",
      "5/5 [==============================] - 0s 82ms/step - loss: 0.0301 - categorical_accuracy: 0.9930\n",
      "Epoch 360/400\n",
      "5/5 [==============================] - 0s 84ms/step - loss: 0.0282 - categorical_accuracy: 0.9930\n",
      "Epoch 361/400\n",
      "5/5 [==============================] - 0s 81ms/step - loss: 0.0340 - categorical_accuracy: 0.9930\n",
      "Epoch 362/400\n",
      "5/5 [==============================] - 0s 80ms/step - loss: 0.0304 - categorical_accuracy: 0.9930\n",
      "Epoch 363/400\n",
      "5/5 [==============================] - 0s 81ms/step - loss: 0.0283 - categorical_accuracy: 0.9930\n",
      "Epoch 364/400\n",
      "5/5 [==============================] - 0s 80ms/step - loss: 0.0353 - categorical_accuracy: 0.9930\n",
      "Epoch 365/400\n",
      "5/5 [==============================] - 0s 82ms/step - loss: 0.0342 - categorical_accuracy: 0.9930\n",
      "Epoch 366/400\n"
     ]
    },
    {
     "name": "stdout",
     "output_type": "stream",
     "text": [
      "5/5 [==============================] - 0s 81ms/step - loss: 0.0302 - categorical_accuracy: 0.9930\n",
      "Epoch 367/400\n",
      "5/5 [==============================] - 0s 80ms/step - loss: 0.0348 - categorical_accuracy: 0.9930\n",
      "Epoch 368/400\n",
      "5/5 [==============================] - 0s 80ms/step - loss: 0.0324 - categorical_accuracy: 0.9930\n",
      "Epoch 369/400\n",
      "5/5 [==============================] - 0s 80ms/step - loss: 0.0265 - categorical_accuracy: 0.9930\n",
      "Epoch 370/400\n",
      "5/5 [==============================] - 0s 80ms/step - loss: 0.0343 - categorical_accuracy: 0.9930\n",
      "Epoch 371/400\n",
      "5/5 [==============================] - 0s 80ms/step - loss: 0.0308 - categorical_accuracy: 0.9930\n",
      "Epoch 372/400\n",
      "5/5 [==============================] - 0s 79ms/step - loss: 0.0551 - categorical_accuracy: 0.9859\n",
      "Epoch 373/400\n",
      "5/5 [==============================] - 0s 81ms/step - loss: 0.0351 - categorical_accuracy: 0.9930\n",
      "Epoch 374/400\n",
      "5/5 [==============================] - 0s 81ms/step - loss: 0.0376 - categorical_accuracy: 0.9930\n",
      "Epoch 375/400\n",
      "5/5 [==============================] - 0s 82ms/step - loss: 0.0337 - categorical_accuracy: 0.9930\n",
      "Epoch 376/400\n",
      "5/5 [==============================] - 0s 82ms/step - loss: 0.0368 - categorical_accuracy: 0.9930\n",
      "Epoch 377/400\n",
      "5/5 [==============================] - 0s 82ms/step - loss: 0.0288 - categorical_accuracy: 0.9930\n",
      "Epoch 378/400\n",
      "5/5 [==============================] - 0s 79ms/step - loss: 0.0351 - categorical_accuracy: 0.9930\n",
      "Epoch 379/400\n",
      "5/5 [==============================] - 0s 80ms/step - loss: 0.0312 - categorical_accuracy: 0.9930\n",
      "Epoch 380/400\n",
      "5/5 [==============================] - 0s 84ms/step - loss: 0.0313 - categorical_accuracy: 0.9930\n",
      "Epoch 381/400\n",
      "5/5 [==============================] - 0s 82ms/step - loss: 0.0313 - categorical_accuracy: 0.9930\n",
      "Epoch 382/400\n",
      "5/5 [==============================] - 0s 83ms/step - loss: 0.0307 - categorical_accuracy: 0.9930\n",
      "Epoch 383/400\n",
      "5/5 [==============================] - 0s 80ms/step - loss: 0.0283 - categorical_accuracy: 0.9930\n",
      "Epoch 384/400\n",
      "5/5 [==============================] - 0s 80ms/step - loss: 0.0270 - categorical_accuracy: 0.9930\n",
      "Epoch 385/400\n",
      "5/5 [==============================] - 0s 84ms/step - loss: 0.0280 - categorical_accuracy: 0.9930\n",
      "Epoch 386/400\n",
      "5/5 [==============================] - 0s 83ms/step - loss: 0.0280 - categorical_accuracy: 0.9930\n",
      "Epoch 387/400\n",
      "5/5 [==============================] - 0s 87ms/step - loss: 0.0271 - categorical_accuracy: 0.9930\n",
      "Epoch 388/400\n",
      "5/5 [==============================] - 0s 86ms/step - loss: 0.0252 - categorical_accuracy: 0.9930\n",
      "Epoch 389/400\n",
      "5/5 [==============================] - 0s 84ms/step - loss: 0.0258 - categorical_accuracy: 0.9930\n",
      "Epoch 390/400\n",
      "5/5 [==============================] - 0s 82ms/step - loss: 0.0242 - categorical_accuracy: 0.9930\n",
      "Epoch 391/400\n",
      "5/5 [==============================] - 0s 83ms/step - loss: 0.0265 - categorical_accuracy: 0.9930\n",
      "Epoch 392/400\n",
      "5/5 [==============================] - 0s 82ms/step - loss: 0.0228 - categorical_accuracy: 0.9930\n",
      "Epoch 393/400\n",
      "5/5 [==============================] - 0s 83ms/step - loss: 0.0212 - categorical_accuracy: 0.9930\n",
      "Epoch 394/400\n",
      "5/5 [==============================] - 0s 83ms/step - loss: 0.0290 - categorical_accuracy: 0.9930\n",
      "Epoch 395/400\n",
      "5/5 [==============================] - 0s 86ms/step - loss: 0.0280 - categorical_accuracy: 0.9930\n",
      "Epoch 396/400\n",
      "5/5 [==============================] - 0s 85ms/step - loss: 0.0218 - categorical_accuracy: 0.9930\n",
      "Epoch 397/400\n",
      "5/5 [==============================] - 0s 83ms/step - loss: 0.0219 - categorical_accuracy: 0.9930\n",
      "Epoch 398/400\n",
      "5/5 [==============================] - 0s 82ms/step - loss: 0.0251 - categorical_accuracy: 0.9930\n",
      "Epoch 399/400\n",
      "5/5 [==============================] - 0s 83ms/step - loss: 0.0224 - categorical_accuracy: 0.9930\n",
      "Epoch 400/400\n",
      "5/5 [==============================] - 0s 83ms/step - loss: 0.0303 - categorical_accuracy: 0.9930\n"
     ]
    },
    {
     "data": {
      "text/plain": [
       "<keras.src.callbacks.History at 0x25f8bba61d0>"
      ]
     },
     "execution_count": 111,
     "metadata": {},
     "output_type": "execute_result"
    }
   ],
   "source": [
    "model.fit(X_train, y_train, epochs=400,  callbacks=[tb_callback])"
   ]
  },
  {
   "cell_type": "code",
   "execution_count": 112,
   "id": "cbd8462d",
   "metadata": {
    "scrolled": false
   },
   "outputs": [
    {
     "name": "stdout",
     "output_type": "stream",
     "text": [
      "Model: \"sequential_8\"\n",
      "_________________________________________________________________\n",
      " Layer (type)                Output Shape              Param #   \n",
      "=================================================================\n",
      " lstm_22 (LSTM)              (None, 30, 64)            442112    \n",
      "                                                                 \n",
      " lstm_23 (LSTM)              (None, 30, 128)           98816     \n",
      "                                                                 \n",
      " lstm_24 (LSTM)              (None, 30, 128)           131584    \n",
      "                                                                 \n",
      " lstm_25 (LSTM)              (None, 64)                49408     \n",
      "                                                                 \n",
      " dense_21 (Dense)            (None, 64)                4160      \n",
      "                                                                 \n",
      " dense_22 (Dense)            (None, 64)                4160      \n",
      "                                                                 \n",
      " dense_23 (Dense)            (None, 32)                2080      \n",
      "                                                                 \n",
      " dense_24 (Dense)            (None, 5)                 165       \n",
      "                                                                 \n",
      "=================================================================\n",
      "Total params: 732485 (2.79 MB)\n",
      "Trainable params: 732485 (2.79 MB)\n",
      "Non-trainable params: 0 (0.00 Byte)\n",
      "_________________________________________________________________\n"
     ]
    }
   ],
   "source": [
    "model.summary()"
   ]
  },
  {
   "cell_type": "markdown",
   "id": "7e3f259f",
   "metadata": {},
   "source": [
    "# step 7"
   ]
  },
  {
   "cell_type": "code",
   "execution_count": 113,
   "id": "34d74cfb",
   "metadata": {},
   "outputs": [
    {
     "name": "stdout",
     "output_type": "stream",
     "text": [
      "1/1 [==============================] - 1s 733ms/step\n"
     ]
    }
   ],
   "source": [
    "res = model.predict(X_test)"
   ]
  },
  {
   "cell_type": "code",
   "execution_count": 114,
   "id": "f6cc303c",
   "metadata": {},
   "outputs": [
    {
     "data": {
      "text/plain": [
       "'I like It'"
      ]
     },
     "execution_count": 114,
     "metadata": {},
     "output_type": "execute_result"
    }
   ],
   "source": [
    "actions[np.argmax(res[4])]"
   ]
  },
  {
   "cell_type": "code",
   "execution_count": 115,
   "id": "590eaf65",
   "metadata": {},
   "outputs": [
    {
     "data": {
      "text/plain": [
       "'I like It'"
      ]
     },
     "execution_count": 115,
     "metadata": {},
     "output_type": "execute_result"
    }
   ],
   "source": [
    "actions[np.argmax(y_test[4])]"
   ]
  },
  {
   "cell_type": "code",
   "execution_count": 116,
   "id": "56ce372e",
   "metadata": {},
   "outputs": [
    {
     "name": "stderr",
     "output_type": "stream",
     "text": [
      "C:\\Users\\VARSHA\\anaconda3\\Lib\\site-packages\\keras\\src\\engine\\training.py:3103: UserWarning: You are saving your model as an HDF5 file via `model.save()`. This file format is considered legacy. We recommend using instead the native Keras format, e.g. `model.save('my_model.keras')`.\n",
      "  saving_api.save_model(\n"
     ]
    }
   ],
   "source": [
    "model.save('action.h5')"
   ]
  },
  {
   "cell_type": "code",
   "execution_count": 117,
   "id": "1114eb3e",
   "metadata": {},
   "outputs": [],
   "source": [
    "del model"
   ]
  },
  {
   "cell_type": "code",
   "execution_count": 121,
   "id": "43d87c2c",
   "metadata": {},
   "outputs": [],
   "source": [
    "model.load_weights('action.h5')"
   ]
  },
  {
   "cell_type": "markdown",
   "id": "f2d5c373",
   "metadata": {},
   "source": [
    "# step 8"
   ]
  },
  {
   "cell_type": "code",
   "execution_count": 122,
   "id": "259406e9",
   "metadata": {},
   "outputs": [],
   "source": [
    "from sklearn.metrics import multilabel_confusion_matrix, accuracy_score"
   ]
  },
  {
   "cell_type": "code",
   "execution_count": 123,
   "id": "727d520d",
   "metadata": {},
   "outputs": [
    {
     "name": "stdout",
     "output_type": "stream",
     "text": [
      "1/1 [==============================] - 1s 772ms/step\n"
     ]
    }
   ],
   "source": [
    "yhat = model.predict(X_test)"
   ]
  },
  {
   "cell_type": "code",
   "execution_count": 124,
   "id": "ea4633ee",
   "metadata": {},
   "outputs": [],
   "source": [
    "ytrue = np.argmax(y_test, axis=1).tolist()\n",
    "yhat = np.argmax(yhat, axis=1).tolist()"
   ]
  },
  {
   "cell_type": "code",
   "execution_count": 125,
   "id": "f7bc0a28",
   "metadata": {},
   "outputs": [
    {
     "data": {
      "text/plain": [
       "array([[[7, 0],\n",
       "        [0, 1]],\n",
       "\n",
       "       [[7, 0],\n",
       "        [0, 1]],\n",
       "\n",
       "       [[6, 0],\n",
       "        [0, 2]],\n",
       "\n",
       "       [[5, 0],\n",
       "        [0, 3]],\n",
       "\n",
       "       [[7, 0],\n",
       "        [0, 1]]], dtype=int64)"
      ]
     },
     "execution_count": 125,
     "metadata": {},
     "output_type": "execute_result"
    }
   ],
   "source": [
    "multilabel_confusion_matrix(ytrue, yhat)"
   ]
  },
  {
   "cell_type": "code",
   "execution_count": 126,
   "id": "5ecb0c63",
   "metadata": {},
   "outputs": [
    {
     "data": {
      "text/plain": [
       "1.0"
      ]
     },
     "execution_count": 126,
     "metadata": {},
     "output_type": "execute_result"
    }
   ],
   "source": [
    "accuracy_score(ytrue, yhat)"
   ]
  },
  {
   "cell_type": "markdown",
   "id": "37340346",
   "metadata": {},
   "source": [
    "# step 9"
   ]
  },
  {
   "cell_type": "code",
   "execution_count": 127,
   "id": "744655fe",
   "metadata": {},
   "outputs": [],
   "source": [
    "colors = [(245,117,16), (117,245,16), (16,117,245), (255,0,0), (0,255,0)]\n",
    "def prob_viz(res, actions, input_frame, colors):\n",
    "    output_frame = input_frame.copy()\n",
    "    for num, (action, prob) in enumerate(zip(actions, res)):\n",
    "        cv2.rectangle(output_frame, (0, 60 + num * 40), (int(prob * 100), 90 + num * 40), colors[num], -1)\n",
    "        cv2.putText(output_frame, f\"{action}: {prob:.2f}\", (0, 85 + num * 40), cv2.FONT_HERSHEY_SIMPLEX, 0.5, (255, 255, 255), 1, cv2.LINE_AA)\n",
    "\n",
    "    return output_frame"
   ]
  },
  {
   "cell_type": "code",
   "execution_count": 93,
   "id": "8ceac6a7",
   "metadata": {},
   "outputs": [
    {
     "ename": "TypeError",
     "evalue": "only size-1 arrays can be converted to Python scalars",
     "output_type": "error",
     "traceback": [
      "\u001b[1;31m---------------------------------------------------------------------------\u001b[0m",
      "\u001b[1;31mTypeError\u001b[0m                                 Traceback (most recent call last)",
      "Cell \u001b[1;32mIn[93], line 2\u001b[0m\n\u001b[0;32m      1\u001b[0m plt\u001b[38;5;241m.\u001b[39mfigure(figsize\u001b[38;5;241m=\u001b[39m(\u001b[38;5;241m18\u001b[39m,\u001b[38;5;241m18\u001b[39m))\n\u001b[1;32m----> 2\u001b[0m plt\u001b[38;5;241m.\u001b[39mimshow(prob_viz(res, actions, image, colors))\n",
      "Cell \u001b[1;32mIn[92], line 5\u001b[0m, in \u001b[0;36mprob_viz\u001b[1;34m(res, actions, input_frame, colors)\u001b[0m\n\u001b[0;32m      3\u001b[0m output_frame \u001b[38;5;241m=\u001b[39m input_frame\u001b[38;5;241m.\u001b[39mcopy()\n\u001b[0;32m      4\u001b[0m \u001b[38;5;28;01mfor\u001b[39;00m num, (action, prob) \u001b[38;5;129;01min\u001b[39;00m \u001b[38;5;28menumerate\u001b[39m(\u001b[38;5;28mzip\u001b[39m(actions, res)):\n\u001b[1;32m----> 5\u001b[0m     cv2\u001b[38;5;241m.\u001b[39mrectangle(output_frame, (\u001b[38;5;241m0\u001b[39m, \u001b[38;5;241m60\u001b[39m \u001b[38;5;241m+\u001b[39m num \u001b[38;5;241m*\u001b[39m \u001b[38;5;241m40\u001b[39m), (\u001b[38;5;28mint\u001b[39m(prob \u001b[38;5;241m*\u001b[39m \u001b[38;5;241m100\u001b[39m), \u001b[38;5;241m90\u001b[39m \u001b[38;5;241m+\u001b[39m num \u001b[38;5;241m*\u001b[39m \u001b[38;5;241m40\u001b[39m), colors[num], \u001b[38;5;241m-\u001b[39m\u001b[38;5;241m1\u001b[39m)\n\u001b[0;32m      6\u001b[0m     cv2\u001b[38;5;241m.\u001b[39mputText(output_frame, \u001b[38;5;124mf\u001b[39m\u001b[38;5;124m\"\u001b[39m\u001b[38;5;132;01m{\u001b[39;00maction\u001b[38;5;132;01m}\u001b[39;00m\u001b[38;5;124m: \u001b[39m\u001b[38;5;132;01m{\u001b[39;00mprob\u001b[38;5;132;01m:\u001b[39;00m\u001b[38;5;124m.2f\u001b[39m\u001b[38;5;132;01m}\u001b[39;00m\u001b[38;5;124m\"\u001b[39m, (\u001b[38;5;241m0\u001b[39m, \u001b[38;5;241m85\u001b[39m \u001b[38;5;241m+\u001b[39m num \u001b[38;5;241m*\u001b[39m \u001b[38;5;241m40\u001b[39m), cv2\u001b[38;5;241m.\u001b[39mFONT_HERSHEY_SIMPLEX, \u001b[38;5;241m0.5\u001b[39m, (\u001b[38;5;241m255\u001b[39m, \u001b[38;5;241m255\u001b[39m, \u001b[38;5;241m255\u001b[39m), \u001b[38;5;241m1\u001b[39m, cv2\u001b[38;5;241m.\u001b[39mLINE_AA)\n\u001b[0;32m      8\u001b[0m \u001b[38;5;28;01mreturn\u001b[39;00m output_frame\n",
      "\u001b[1;31mTypeError\u001b[0m: only size-1 arrays can be converted to Python scalars"
     ]
    },
    {
     "data": {
      "text/plain": [
       "<Figure size 1800x1800 with 0 Axes>"
      ]
     },
     "metadata": {},
     "output_type": "display_data"
    }
   ],
   "source": [
    "plt.figure(figsize=(18,18))\n",
    "plt.imshow(prob_viz(res, actions, image, colors))"
   ]
  },
  {
   "cell_type": "code",
   "execution_count": 94,
   "id": "00ac56f6",
   "metadata": {},
   "outputs": [],
   "source": [
    "sequence.reverse()"
   ]
  },
  {
   "cell_type": "code",
   "execution_count": null,
   "id": "d34f63ff",
   "metadata": {},
   "outputs": [],
   "source": [
    "len(sequence)"
   ]
  },
  {
   "cell_type": "code",
   "execution_count": null,
   "id": "e1a89076",
   "metadata": {},
   "outputs": [],
   "source": [
    "sequence.append('def')"
   ]
  },
  {
   "cell_type": "code",
   "execution_count": null,
   "id": "24346fd3",
   "metadata": {},
   "outputs": [],
   "source": [
    "sequence.reverse()"
   ]
  },
  {
   "cell_type": "code",
   "execution_count": null,
   "id": "bdb2f450",
   "metadata": {},
   "outputs": [],
   "source": [
    "sequence[-30:]"
   ]
  },
  {
   "cell_type": "code",
   "execution_count": 131,
   "id": "75b073f1",
   "metadata": {},
   "outputs": [
    {
     "name": "stdout",
     "output_type": "stream",
     "text": [
      "<class 'mediapipe.python.solution_base.SolutionOutputs'>\n",
      "<class 'mediapipe.python.solution_base.SolutionOutputs'>\n",
      "<class 'mediapipe.python.solution_base.SolutionOutputs'>\n",
      "<class 'mediapipe.python.solution_base.SolutionOutputs'>\n",
      "<class 'mediapipe.python.solution_base.SolutionOutputs'>\n",
      "<class 'mediapipe.python.solution_base.SolutionOutputs'>\n",
      "<class 'mediapipe.python.solution_base.SolutionOutputs'>\n",
      "<class 'mediapipe.python.solution_base.SolutionOutputs'>\n",
      "<class 'mediapipe.python.solution_base.SolutionOutputs'>\n",
      "<class 'mediapipe.python.solution_base.SolutionOutputs'>\n",
      "<class 'mediapipe.python.solution_base.SolutionOutputs'>\n",
      "<class 'mediapipe.python.solution_base.SolutionOutputs'>\n",
      "<class 'mediapipe.python.solution_base.SolutionOutputs'>\n",
      "<class 'mediapipe.python.solution_base.SolutionOutputs'>\n",
      "<class 'mediapipe.python.solution_base.SolutionOutputs'>\n",
      "<class 'mediapipe.python.solution_base.SolutionOutputs'>\n",
      "<class 'mediapipe.python.solution_base.SolutionOutputs'>\n",
      "<class 'mediapipe.python.solution_base.SolutionOutputs'>\n",
      "<class 'mediapipe.python.solution_base.SolutionOutputs'>\n",
      "<class 'mediapipe.python.solution_base.SolutionOutputs'>\n",
      "<class 'mediapipe.python.solution_base.SolutionOutputs'>\n",
      "<class 'mediapipe.python.solution_base.SolutionOutputs'>\n",
      "<class 'mediapipe.python.solution_base.SolutionOutputs'>\n",
      "<class 'mediapipe.python.solution_base.SolutionOutputs'>\n",
      "<class 'mediapipe.python.solution_base.SolutionOutputs'>\n",
      "<class 'mediapipe.python.solution_base.SolutionOutputs'>\n",
      "<class 'mediapipe.python.solution_base.SolutionOutputs'>\n",
      "<class 'mediapipe.python.solution_base.SolutionOutputs'>\n",
      "<class 'mediapipe.python.solution_base.SolutionOutputs'>\n",
      "<class 'mediapipe.python.solution_base.SolutionOutputs'>\n",
      "1/1 [==============================] - 0s 35ms/step\n",
      "hello\n",
      "<class 'mediapipe.python.solution_base.SolutionOutputs'>\n",
      "1/1 [==============================] - 0s 26ms/step\n",
      "hello\n",
      "<class 'mediapipe.python.solution_base.SolutionOutputs'>\n",
      "1/1 [==============================] - 0s 30ms/step\n",
      "hello\n",
      "<class 'mediapipe.python.solution_base.SolutionOutputs'>\n",
      "1/1 [==============================] - 0s 23ms/step\n",
      "hello\n",
      "<class 'mediapipe.python.solution_base.SolutionOutputs'>\n",
      "1/1 [==============================] - 0s 35ms/step\n",
      "hello\n",
      "<class 'mediapipe.python.solution_base.SolutionOutputs'>\n",
      "1/1 [==============================] - 0s 29ms/step\n",
      "hello\n",
      "<class 'mediapipe.python.solution_base.SolutionOutputs'>\n",
      "1/1 [==============================] - 0s 26ms/step\n",
      "hello\n",
      "<class 'mediapipe.python.solution_base.SolutionOutputs'>\n",
      "1/1 [==============================] - 0s 31ms/step\n",
      "hello\n",
      "<class 'mediapipe.python.solution_base.SolutionOutputs'>\n",
      "1/1 [==============================] - 0s 34ms/step\n",
      "hello\n",
      "<class 'mediapipe.python.solution_base.SolutionOutputs'>\n",
      "1/1 [==============================] - 0s 27ms/step\n",
      "hello\n",
      "<class 'mediapipe.python.solution_base.SolutionOutputs'>\n",
      "1/1 [==============================] - 0s 26ms/step\n",
      "hello\n",
      "<class 'mediapipe.python.solution_base.SolutionOutputs'>\n",
      "1/1 [==============================] - 0s 35ms/step\n",
      "hello\n",
      "<class 'mediapipe.python.solution_base.SolutionOutputs'>\n",
      "1/1 [==============================] - 0s 27ms/step\n",
      "hello\n",
      "<class 'mediapipe.python.solution_base.SolutionOutputs'>\n",
      "1/1 [==============================] - 0s 25ms/step\n",
      "hello\n",
      "<class 'mediapipe.python.solution_base.SolutionOutputs'>\n",
      "1/1 [==============================] - 0s 28ms/step\n",
      "hello\n",
      "<class 'mediapipe.python.solution_base.SolutionOutputs'>\n",
      "1/1 [==============================] - 0s 34ms/step\n",
      "hello\n",
      "<class 'mediapipe.python.solution_base.SolutionOutputs'>\n",
      "1/1 [==============================] - 0s 28ms/step\n",
      "hello\n",
      "<class 'mediapipe.python.solution_base.SolutionOutputs'>\n",
      "1/1 [==============================] - 0s 29ms/step\n",
      "hello\n",
      "<class 'mediapipe.python.solution_base.SolutionOutputs'>\n",
      "1/1 [==============================] - 0s 26ms/step\n",
      "hello\n",
      "<class 'mediapipe.python.solution_base.SolutionOutputs'>\n",
      "1/1 [==============================] - 0s 27ms/step\n",
      "hello\n",
      "<class 'mediapipe.python.solution_base.SolutionOutputs'>\n",
      "1/1 [==============================] - 0s 28ms/step\n",
      "hello\n",
      "<class 'mediapipe.python.solution_base.SolutionOutputs'>\n",
      "1/1 [==============================] - 0s 29ms/step\n",
      "hello\n",
      "<class 'mediapipe.python.solution_base.SolutionOutputs'>\n",
      "1/1 [==============================] - 0s 37ms/step\n",
      "hello\n",
      "<class 'mediapipe.python.solution_base.SolutionOutputs'>\n",
      "1/1 [==============================] - 0s 28ms/step\n",
      "hello\n",
      "<class 'mediapipe.python.solution_base.SolutionOutputs'>\n",
      "1/1 [==============================] - 0s 30ms/step\n",
      "hello\n",
      "<class 'mediapipe.python.solution_base.SolutionOutputs'>\n",
      "1/1 [==============================] - 0s 26ms/step\n",
      "hello\n",
      "<class 'mediapipe.python.solution_base.SolutionOutputs'>\n",
      "1/1 [==============================] - 0s 31ms/step\n",
      "hello\n",
      "<class 'mediapipe.python.solution_base.SolutionOutputs'>\n",
      "1/1 [==============================] - 0s 26ms/step\n",
      "hello\n",
      "<class 'mediapipe.python.solution_base.SolutionOutputs'>\n",
      "1/1 [==============================] - 0s 28ms/step\n",
      "hello\n",
      "<class 'mediapipe.python.solution_base.SolutionOutputs'>\n",
      "1/1 [==============================] - 0s 28ms/step\n",
      "hello\n",
      "<class 'mediapipe.python.solution_base.SolutionOutputs'>\n",
      "1/1 [==============================] - 0s 25ms/step\n",
      "hello\n",
      "<class 'mediapipe.python.solution_base.SolutionOutputs'>\n",
      "1/1 [==============================] - 0s 28ms/step\n",
      "hello\n",
      "<class 'mediapipe.python.solution_base.SolutionOutputs'>\n",
      "1/1 [==============================] - 0s 25ms/step\n",
      "hello\n",
      "<class 'mediapipe.python.solution_base.SolutionOutputs'>\n",
      "1/1 [==============================] - 0s 29ms/step\n",
      "hello\n",
      "<class 'mediapipe.python.solution_base.SolutionOutputs'>\n",
      "1/1 [==============================] - 0s 26ms/step\n",
      "hello\n",
      "<class 'mediapipe.python.solution_base.SolutionOutputs'>\n",
      "1/1 [==============================] - 0s 27ms/step\n",
      "hello\n",
      "<class 'mediapipe.python.solution_base.SolutionOutputs'>\n",
      "1/1 [==============================] - 0s 33ms/step\n",
      "hello\n",
      "<class 'mediapipe.python.solution_base.SolutionOutputs'>\n",
      "1/1 [==============================] - 0s 30ms/step\n",
      "hello\n",
      "<class 'mediapipe.python.solution_base.SolutionOutputs'>\n",
      "1/1 [==============================] - 0s 29ms/step\n",
      "hello\n",
      "<class 'mediapipe.python.solution_base.SolutionOutputs'>\n",
      "1/1 [==============================] - 0s 26ms/step\n",
      "hello\n",
      "<class 'mediapipe.python.solution_base.SolutionOutputs'>\n",
      "1/1 [==============================] - 0s 27ms/step\n",
      "hello\n",
      "<class 'mediapipe.python.solution_base.SolutionOutputs'>\n",
      "1/1 [==============================] - 0s 24ms/step\n",
      "hello\n",
      "<class 'mediapipe.python.solution_base.SolutionOutputs'>\n",
      "1/1 [==============================] - 0s 27ms/step\n",
      "hello\n",
      "<class 'mediapipe.python.solution_base.SolutionOutputs'>\n",
      "1/1 [==============================] - 0s 29ms/step\n",
      "hello\n",
      "<class 'mediapipe.python.solution_base.SolutionOutputs'>\n",
      "1/1 [==============================] - 0s 26ms/step\n",
      "thanks\n",
      "<class 'mediapipe.python.solution_base.SolutionOutputs'>\n",
      "1/1 [==============================] - 0s 24ms/step\n",
      "thanks\n",
      "<class 'mediapipe.python.solution_base.SolutionOutputs'>\n",
      "1/1 [==============================] - 0s 39ms/step\n",
      "thanks\n",
      "<class 'mediapipe.python.solution_base.SolutionOutputs'>\n",
      "1/1 [==============================] - 0s 26ms/step\n",
      "thanks\n",
      "<class 'mediapipe.python.solution_base.SolutionOutputs'>\n",
      "1/1 [==============================] - 0s 33ms/step\n",
      "thanks\n",
      "<class 'mediapipe.python.solution_base.SolutionOutputs'>\n",
      "1/1 [==============================] - 0s 25ms/step\n",
      "thanks\n",
      "<class 'mediapipe.python.solution_base.SolutionOutputs'>\n",
      "1/1 [==============================] - 0s 28ms/step\n",
      "thanks\n",
      "<class 'mediapipe.python.solution_base.SolutionOutputs'>\n",
      "1/1 [==============================] - 0s 30ms/step\n",
      "thanks\n",
      "<class 'mediapipe.python.solution_base.SolutionOutputs'>\n",
      "1/1 [==============================] - 0s 29ms/step\n",
      "thanks\n",
      "<class 'mediapipe.python.solution_base.SolutionOutputs'>\n",
      "1/1 [==============================] - 0s 28ms/step\n",
      "thanks\n",
      "<class 'mediapipe.python.solution_base.SolutionOutputs'>\n",
      "1/1 [==============================] - 0s 28ms/step\n",
      "thanks\n",
      "<class 'mediapipe.python.solution_base.SolutionOutputs'>\n",
      "1/1 [==============================] - 0s 26ms/step\n",
      "thanks\n",
      "<class 'mediapipe.python.solution_base.SolutionOutputs'>\n"
     ]
    },
    {
     "name": "stdout",
     "output_type": "stream",
     "text": [
      "1/1 [==============================] - 0s 26ms/step\n",
      "thanks\n",
      "<class 'mediapipe.python.solution_base.SolutionOutputs'>\n",
      "1/1 [==============================] - 0s 26ms/step\n",
      "thanks\n",
      "<class 'mediapipe.python.solution_base.SolutionOutputs'>\n",
      "1/1 [==============================] - 0s 27ms/step\n",
      "thanks\n",
      "<class 'mediapipe.python.solution_base.SolutionOutputs'>\n",
      "1/1 [==============================] - 0s 26ms/step\n",
      "thanks\n",
      "<class 'mediapipe.python.solution_base.SolutionOutputs'>\n",
      "1/1 [==============================] - 0s 25ms/step\n",
      "thanks\n",
      "<class 'mediapipe.python.solution_base.SolutionOutputs'>\n",
      "1/1 [==============================] - 0s 31ms/step\n",
      "thanks\n",
      "<class 'mediapipe.python.solution_base.SolutionOutputs'>\n",
      "1/1 [==============================] - 0s 25ms/step\n",
      "thanks\n",
      "<class 'mediapipe.python.solution_base.SolutionOutputs'>\n",
      "1/1 [==============================] - 0s 26ms/step\n",
      "thanks\n",
      "<class 'mediapipe.python.solution_base.SolutionOutputs'>\n",
      "1/1 [==============================] - 0s 29ms/step\n",
      "thanks\n",
      "<class 'mediapipe.python.solution_base.SolutionOutputs'>\n",
      "1/1 [==============================] - 0s 26ms/step\n",
      "thanks\n",
      "<class 'mediapipe.python.solution_base.SolutionOutputs'>\n",
      "1/1 [==============================] - 0s 25ms/step\n",
      "thanks\n",
      "<class 'mediapipe.python.solution_base.SolutionOutputs'>\n",
      "1/1 [==============================] - 0s 27ms/step\n",
      "thanks\n",
      "<class 'mediapipe.python.solution_base.SolutionOutputs'>\n",
      "1/1 [==============================] - 0s 28ms/step\n",
      "thanks\n",
      "<class 'mediapipe.python.solution_base.SolutionOutputs'>\n",
      "1/1 [==============================] - 0s 28ms/step\n",
      "thanks\n",
      "<class 'mediapipe.python.solution_base.SolutionOutputs'>\n",
      "1/1 [==============================] - 0s 28ms/step\n",
      "thanks\n",
      "<class 'mediapipe.python.solution_base.SolutionOutputs'>\n",
      "1/1 [==============================] - 0s 26ms/step\n",
      "thanks\n",
      "<class 'mediapipe.python.solution_base.SolutionOutputs'>\n",
      "1/1 [==============================] - 0s 29ms/step\n",
      "thanks\n",
      "<class 'mediapipe.python.solution_base.SolutionOutputs'>\n",
      "1/1 [==============================] - 0s 25ms/step\n",
      "thanks\n",
      "<class 'mediapipe.python.solution_base.SolutionOutputs'>\n",
      "1/1 [==============================] - 0s 41ms/step\n",
      "A\n",
      "<class 'mediapipe.python.solution_base.SolutionOutputs'>\n",
      "1/1 [==============================] - 0s 28ms/step\n",
      "A\n",
      "<class 'mediapipe.python.solution_base.SolutionOutputs'>\n",
      "1/1 [==============================] - 0s 28ms/step\n",
      "A\n",
      "<class 'mediapipe.python.solution_base.SolutionOutputs'>\n",
      "1/1 [==============================] - 0s 28ms/step\n",
      "A\n",
      "<class 'mediapipe.python.solution_base.SolutionOutputs'>\n",
      "1/1 [==============================] - 0s 26ms/step\n",
      "A\n",
      "<class 'mediapipe.python.solution_base.SolutionOutputs'>\n",
      "1/1 [==============================] - 0s 29ms/step\n",
      "A\n",
      "<class 'mediapipe.python.solution_base.SolutionOutputs'>\n",
      "1/1 [==============================] - 0s 27ms/step\n",
      "A\n",
      "<class 'mediapipe.python.solution_base.SolutionOutputs'>\n",
      "1/1 [==============================] - 0s 27ms/step\n",
      "A\n",
      "<class 'mediapipe.python.solution_base.SolutionOutputs'>\n",
      "1/1 [==============================] - 0s 27ms/step\n",
      "A\n",
      "<class 'mediapipe.python.solution_base.SolutionOutputs'>\n",
      "1/1 [==============================] - 0s 28ms/step\n",
      "A\n",
      "<class 'mediapipe.python.solution_base.SolutionOutputs'>\n",
      "1/1 [==============================] - 0s 26ms/step\n",
      "A\n",
      "<class 'mediapipe.python.solution_base.SolutionOutputs'>\n",
      "1/1 [==============================] - 0s 26ms/step\n",
      "A\n",
      "<class 'mediapipe.python.solution_base.SolutionOutputs'>\n",
      "1/1 [==============================] - 0s 36ms/step\n",
      "A\n",
      "<class 'mediapipe.python.solution_base.SolutionOutputs'>\n",
      "1/1 [==============================] - 0s 26ms/step\n",
      "A\n",
      "<class 'mediapipe.python.solution_base.SolutionOutputs'>\n",
      "1/1 [==============================] - 0s 27ms/step\n",
      "A\n",
      "<class 'mediapipe.python.solution_base.SolutionOutputs'>\n",
      "1/1 [==============================] - 0s 27ms/step\n",
      "A\n",
      "<class 'mediapipe.python.solution_base.SolutionOutputs'>\n",
      "1/1 [==============================] - 0s 26ms/step\n",
      "A\n",
      "<class 'mediapipe.python.solution_base.SolutionOutputs'>\n",
      "1/1 [==============================] - 0s 24ms/step\n",
      "A\n",
      "<class 'mediapipe.python.solution_base.SolutionOutputs'>\n",
      "1/1 [==============================] - 0s 36ms/step\n",
      "A\n",
      "<class 'mediapipe.python.solution_base.SolutionOutputs'>\n",
      "1/1 [==============================] - 0s 32ms/step\n",
      "A\n",
      "<class 'mediapipe.python.solution_base.SolutionOutputs'>\n",
      "1/1 [==============================] - 0s 24ms/step\n",
      "A\n",
      "<class 'mediapipe.python.solution_base.SolutionOutputs'>\n",
      "1/1 [==============================] - 0s 28ms/step\n",
      "A\n",
      "<class 'mediapipe.python.solution_base.SolutionOutputs'>\n",
      "1/1 [==============================] - 0s 26ms/step\n",
      "A\n",
      "<class 'mediapipe.python.solution_base.SolutionOutputs'>\n",
      "1/1 [==============================] - 0s 28ms/step\n",
      "A\n",
      "<class 'mediapipe.python.solution_base.SolutionOutputs'>\n",
      "1/1 [==============================] - 0s 27ms/step\n",
      "A\n",
      "<class 'mediapipe.python.solution_base.SolutionOutputs'>\n",
      "1/1 [==============================] - 0s 26ms/step\n",
      "A\n",
      "<class 'mediapipe.python.solution_base.SolutionOutputs'>\n",
      "1/1 [==============================] - 0s 38ms/step\n",
      "A\n",
      "<class 'mediapipe.python.solution_base.SolutionOutputs'>\n",
      "1/1 [==============================] - 0s 29ms/step\n",
      "A\n",
      "<class 'mediapipe.python.solution_base.SolutionOutputs'>\n",
      "1/1 [==============================] - 0s 26ms/step\n",
      "A\n",
      "<class 'mediapipe.python.solution_base.SolutionOutputs'>\n",
      "1/1 [==============================] - 0s 28ms/step\n",
      "B\n",
      "<class 'mediapipe.python.solution_base.SolutionOutputs'>\n",
      "1/1 [==============================] - 0s 30ms/step\n",
      "B\n",
      "<class 'mediapipe.python.solution_base.SolutionOutputs'>\n",
      "1/1 [==============================] - 0s 27ms/step\n",
      "B\n",
      "<class 'mediapipe.python.solution_base.SolutionOutputs'>\n",
      "1/1 [==============================] - 0s 27ms/step\n",
      "B\n",
      "<class 'mediapipe.python.solution_base.SolutionOutputs'>\n",
      "1/1 [==============================] - 0s 26ms/step\n",
      "B\n",
      "<class 'mediapipe.python.solution_base.SolutionOutputs'>\n",
      "1/1 [==============================] - 0s 26ms/step\n",
      "B\n",
      "<class 'mediapipe.python.solution_base.SolutionOutputs'>\n",
      "1/1 [==============================] - 0s 26ms/step\n",
      "B\n",
      "<class 'mediapipe.python.solution_base.SolutionOutputs'>\n",
      "1/1 [==============================] - 0s 27ms/step\n",
      "B\n",
      "<class 'mediapipe.python.solution_base.SolutionOutputs'>\n",
      "1/1 [==============================] - 0s 28ms/step\n",
      "B\n",
      "<class 'mediapipe.python.solution_base.SolutionOutputs'>\n",
      "1/1 [==============================] - 0s 28ms/step\n",
      "B\n",
      "<class 'mediapipe.python.solution_base.SolutionOutputs'>\n",
      "1/1 [==============================] - 0s 28ms/step\n",
      "B\n",
      "<class 'mediapipe.python.solution_base.SolutionOutputs'>\n",
      "1/1 [==============================] - 0s 27ms/step\n",
      "B\n",
      "<class 'mediapipe.python.solution_base.SolutionOutputs'>\n",
      "1/1 [==============================] - 0s 29ms/step\n",
      "B\n",
      "<class 'mediapipe.python.solution_base.SolutionOutputs'>\n",
      "1/1 [==============================] - 0s 29ms/step\n",
      "B\n",
      "<class 'mediapipe.python.solution_base.SolutionOutputs'>\n",
      "1/1 [==============================] - 0s 33ms/step\n",
      "B\n",
      "<class 'mediapipe.python.solution_base.SolutionOutputs'>\n",
      "1/1 [==============================] - 0s 29ms/step\n",
      "B\n",
      "<class 'mediapipe.python.solution_base.SolutionOutputs'>\n",
      "1/1 [==============================] - 0s 28ms/step\n",
      "B\n",
      "<class 'mediapipe.python.solution_base.SolutionOutputs'>\n",
      "1/1 [==============================] - 0s 28ms/step\n",
      "B\n",
      "<class 'mediapipe.python.solution_base.SolutionOutputs'>\n",
      "1/1 [==============================] - 0s 28ms/step\n",
      "B\n",
      "<class 'mediapipe.python.solution_base.SolutionOutputs'>\n",
      "1/1 [==============================] - 0s 27ms/step\n",
      "B\n",
      "<class 'mediapipe.python.solution_base.SolutionOutputs'>\n",
      "1/1 [==============================] - 0s 31ms/step\n",
      "B\n",
      "<class 'mediapipe.python.solution_base.SolutionOutputs'>\n",
      "1/1 [==============================] - 0s 26ms/step\n",
      "A\n",
      "<class 'mediapipe.python.solution_base.SolutionOutputs'>\n",
      "1/1 [==============================] - 0s 27ms/step\n",
      "A\n",
      "<class 'mediapipe.python.solution_base.SolutionOutputs'>\n",
      "1/1 [==============================] - 0s 27ms/step\n",
      "A\n",
      "<class 'mediapipe.python.solution_base.SolutionOutputs'>\n",
      "1/1 [==============================] - 0s 27ms/step\n",
      "A\n",
      "<class 'mediapipe.python.solution_base.SolutionOutputs'>\n",
      "1/1 [==============================] - 0s 27ms/step\n",
      "A\n",
      "<class 'mediapipe.python.solution_base.SolutionOutputs'>\n"
     ]
    },
    {
     "name": "stdout",
     "output_type": "stream",
     "text": [
      "1/1 [==============================] - 0s 30ms/step\n",
      "A\n",
      "<class 'mediapipe.python.solution_base.SolutionOutputs'>\n",
      "1/1 [==============================] - 0s 26ms/step\n",
      "I like It\n",
      "<class 'mediapipe.python.solution_base.SolutionOutputs'>\n",
      "1/1 [==============================] - 0s 27ms/step\n",
      "I like It\n",
      "<class 'mediapipe.python.solution_base.SolutionOutputs'>\n",
      "1/1 [==============================] - 0s 35ms/step\n",
      "I like It\n",
      "<class 'mediapipe.python.solution_base.SolutionOutputs'>\n",
      "1/1 [==============================] - 0s 27ms/step\n",
      "I like It\n",
      "<class 'mediapipe.python.solution_base.SolutionOutputs'>\n",
      "1/1 [==============================] - 0s 28ms/step\n",
      "I like It\n",
      "<class 'mediapipe.python.solution_base.SolutionOutputs'>\n",
      "1/1 [==============================] - 0s 31ms/step\n",
      "I like It\n",
      "<class 'mediapipe.python.solution_base.SolutionOutputs'>\n",
      "1/1 [==============================] - 0s 26ms/step\n",
      "I like It\n",
      "<class 'mediapipe.python.solution_base.SolutionOutputs'>\n",
      "1/1 [==============================] - 0s 26ms/step\n",
      "I like It\n",
      "<class 'mediapipe.python.solution_base.SolutionOutputs'>\n",
      "1/1 [==============================] - 0s 25ms/step\n",
      "I like It\n",
      "<class 'mediapipe.python.solution_base.SolutionOutputs'>\n",
      "1/1 [==============================] - 0s 27ms/step\n",
      "I like It\n",
      "<class 'mediapipe.python.solution_base.SolutionOutputs'>\n",
      "1/1 [==============================] - 0s 26ms/step\n",
      "I like It\n",
      "<class 'mediapipe.python.solution_base.SolutionOutputs'>\n",
      "1/1 [==============================] - 0s 30ms/step\n",
      "I like It\n",
      "<class 'mediapipe.python.solution_base.SolutionOutputs'>\n",
      "1/1 [==============================] - 0s 28ms/step\n",
      "I like It\n",
      "<class 'mediapipe.python.solution_base.SolutionOutputs'>\n",
      "1/1 [==============================] - 0s 27ms/step\n",
      "I like It\n",
      "<class 'mediapipe.python.solution_base.SolutionOutputs'>\n",
      "1/1 [==============================] - 0s 26ms/step\n",
      "I like It\n",
      "<class 'mediapipe.python.solution_base.SolutionOutputs'>\n",
      "1/1 [==============================] - 0s 27ms/step\n",
      "I like It\n",
      "<class 'mediapipe.python.solution_base.SolutionOutputs'>\n",
      "1/1 [==============================] - 0s 26ms/step\n",
      "I like It\n",
      "<class 'mediapipe.python.solution_base.SolutionOutputs'>\n",
      "1/1 [==============================] - 0s 28ms/step\n",
      "I like It\n",
      "<class 'mediapipe.python.solution_base.SolutionOutputs'>\n",
      "1/1 [==============================] - 0s 28ms/step\n",
      "I like It\n",
      "<class 'mediapipe.python.solution_base.SolutionOutputs'>\n",
      "1/1 [==============================] - 0s 29ms/step\n",
      "hello\n"
     ]
    }
   ],
   "source": [
    "# 1. New detection variables\n",
    "sequence = []\n",
    "sentence = []\n",
    "threshold = 0.8\n",
    "\n",
    "cap = cv2.VideoCapture(0)\n",
    "# Set mediapipe model \n",
    "with mp_holistic.Holistic(min_detection_confidence=0.5, min_tracking_confidence=0.5) as holistic:\n",
    "    while cap.isOpened():\n",
    "\n",
    "        # Read feed\n",
    "        ret, frame = cap.read()\n",
    "\n",
    "        # Make detections\n",
    "        image, results = mediapipe_detection(frame, holistic)\n",
    "        print(results)\n",
    "        \n",
    "        # Draw landmarks\n",
    "        draw_styled_landmarks(image, results)\n",
    "        \n",
    "        # 2. Prediction logic\n",
    "        keypoints = extract_keypoints(results)\n",
    "#         sequence.insert(0,keypoints)\n",
    "#         sequence = sequence[:30]\n",
    "        sequence.append(keypoints)\n",
    "        sequence = sequence[-30:]\n",
    "        \n",
    "        if len(sequence) == 30:\n",
    "            res = model.predict(np.expand_dims(sequence, axis=0))[0]\n",
    "            print(actions[np.argmax(res)])\n",
    "            \n",
    "            \n",
    "        #3. Viz logic\n",
    "            if res[np.argmax(res)] > threshold: \n",
    "                if len(sentence) > 0: \n",
    "                    if actions[np.argmax(res)] != sentence[-1]:\n",
    "                        sentence.append(actions[np.argmax(res)])\n",
    "                else:\n",
    "                    sentence.append(actions[np.argmax(res)])\n",
    "                    \n",
    "            if len(sentence) > 5: \n",
    "                sentence = sentence[-5:]\n",
    "\n",
    "            # Viz probabilities\n",
    "            image = prob_viz(res, actions, image, colors)\n",
    "            \n",
    "        cv2.rectangle(image, (0,0), (640, 40), (245, 117, 16), -1)\n",
    "        cv2.putText(image, ' '.join(sentence), (3,30), \n",
    "                       cv2.FONT_HERSHEY_SIMPLEX, 1, (255, 255, 255), 2, cv2.LINE_AA)\n",
    "        \n",
    "        # Show to screen\n",
    "        cv2.imshow('OpenCV Feed', image)\n",
    "\n",
    "        # Break gracefully\n",
    "        if cv2.waitKey(10) & 0xFF == ord('q'):\n",
    "            break\n",
    "    cap.release()\n",
    "    cv2.destroyAllWindows()"
   ]
  },
  {
   "cell_type": "code",
   "execution_count": 130,
   "id": "78b46d22",
   "metadata": {},
   "outputs": [],
   "source": [
    "cap.release()\n",
    "cv2.destroyAllWindows()"
   ]
  },
  {
   "cell_type": "code",
   "execution_count": 65,
   "id": "c7223871",
   "metadata": {},
   "outputs": [
    {
     "data": {
      "text/plain": [
       "True"
      ]
     },
     "execution_count": 65,
     "metadata": {},
     "output_type": "execute_result"
    }
   ],
   "source": [
    "res[np.argmax(res)] > threshold"
   ]
  },
  {
   "cell_type": "code",
   "execution_count": 66,
   "id": "e5441cbd",
   "metadata": {},
   "outputs": [
    {
     "ename": "NameError",
     "evalue": "name 'num_sequences' is not defined",
     "output_type": "error",
     "traceback": [
      "\u001b[1;31m---------------------------------------------------------------------------\u001b[0m",
      "\u001b[1;31mNameError\u001b[0m                                 Traceback (most recent call last)",
      "Cell \u001b[1;32mIn[66], line 1\u001b[0m\n\u001b[1;32m----> 1\u001b[0m (num_sequences,\u001b[38;5;241m30\u001b[39m,\u001b[38;5;241m1662\u001b[39m)\n",
      "\u001b[1;31mNameError\u001b[0m: name 'num_sequences' is not defined"
     ]
    }
   ],
   "source": [
    "(num_sequences,30,1662)"
   ]
  },
  {
   "cell_type": "code",
   "execution_count": null,
   "id": "2294a686",
   "metadata": {},
   "outputs": [],
   "source": [
    "model.predict(np.expand_dims(X_test[0], axis=0))"
   ]
  }
 ],
 "metadata": {
  "kernelspec": {
   "display_name": "Python 3 (ipykernel)",
   "language": "python",
   "name": "python3"
  },
  "language_info": {
   "codemirror_mode": {
    "name": "ipython",
    "version": 3
   },
   "file_extension": ".py",
   "mimetype": "text/x-python",
   "name": "python",
   "nbconvert_exporter": "python",
   "pygments_lexer": "ipython3",
   "version": "3.11.5"
  }
 },
 "nbformat": 4,
 "nbformat_minor": 5
}
